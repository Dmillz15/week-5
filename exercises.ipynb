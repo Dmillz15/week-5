{
 "cells": [
  {
   "cell_type": "markdown",
   "id": "e3aad6c5",
   "metadata": {},
   "source": [
    "<font color='darkorange'> Unless otherwise noted, **this notebook will not be reviewed or autograded.**</font> You are welcome to use it for scratchwork, but **only the files listed in the exercises will be checked.**\n",
    "\n",
    "---\n",
    "\n",
    "# Exercises\n",
    "\n",
    "For these exercises, add your functions to the *apputil\\.py* file and *app\\.py* file as instructed. *These exercises use the same [Titanic dataset](https://www.kaggle.com/competitions/titanic/data) as the lab.*\n",
    "\n",
    "\n",
    "## Exercise 1: Survival Patterns\n"
   ]
  },
  {
   "cell_type": "markdown",
   "id": "5833bb5f",
   "metadata": {},
   "source": [
    "For this exercise you will analyze survival patterns on the Titanic by looking at passenger class, sex, and age group. Name the function survival_demographics().\n",
    "\n",
    "1. Create a new column in the Titanic dataset that classifies passengers into age categories (i.e., a pandas category series). The categories should be:\n",
    "\n",
    "        Child (up to 12)\n",
    "        Teen (13–19)\n",
    "        Adult (20–59)\n",
    "        Senior (60+)\n",
    "Hint: The pd.cut() function might come in handy here.\n",
    "\n",
    "2. Group the passengers by class, sex, and age group.\n",
    "\n",
    "3. For each group, calculate:\n",
    "\n",
    "        The total number of passengers, n_passengers\n",
    "        The number of survivors, n_survivors\n",
    "        The survival rate, survival_rate\n",
    "4. Return a table that includes the results for all combinations of class, sex, and age group.\n",
    "\n",
    "5. Order the results so they are easy to interpret.\n",
    "\n",
    "6. Come up with a clear question that your results table makes you curious about (e.g., “Did women in first class have a higher survival rate than men in other classes?”). Write this question in your app.py file above the call to your visualization function, using st.write(\"Your Question Here\").\n",
    "\n",
    "7. Create a Plotly visualization in a function named visualize_demographic() that directly addresses your question by returning a Plotly figure (e.g., fig = px. ...). You are free to choose the chart type that you think best communicates the findings. Be creative — try different approaches, compare them, and ensure that your chart clearly answers the question you posed."
   ]
  },
  {
   "cell_type": "code",
   "execution_count": null,
   "id": "8557c676",
   "metadata": {},
   "outputs": [
    {
     "name": "stderr",
     "output_type": "stream",
     "text": [
      "/tmp/ipykernel_1028/4260034809.py:20: FutureWarning: The default of observed=False is deprecated and will be changed to True in a future version of pandas. Pass observed=False to retain current behavior or observed=True to adopt the future default and silence this warning.\n",
      "  grouped = df.groupby(['Pclass', 'Sex', 'age_group']).agg(\n"
     ]
    },
    {
     "data": {
      "application/vnd.plotly.v1+json": {
       "config": {
        "plotlyServerURL": "https://plot.ly"
       },
       "data": [
        {
         "alignmentgroup": "True",
         "hovertemplate": "Gender=female<br>Age Group=Child<br>Passenger Class=%{x}<br>Survival Rate=%{y}<extra></extra>",
         "legendgroup": "female",
         "marker": {
          "color": "#FF6B9C",
          "pattern": {
           "shape": ""
          }
         },
         "name": "female",
         "offsetgroup": "female",
         "orientation": "v",
         "showlegend": true,
         "textposition": "auto",
         "type": "bar",
         "x": {
          "bdata": "AQID",
          "dtype": "i1"
         },
         "xaxis": "x3",
         "y": {
          "bdata": "AAAAAAAAAAAAAAAAAADwP2Q730+Nl94/",
          "dtype": "f8"
         },
         "yaxis": "y3"
        },
        {
         "alignmentgroup": "True",
         "hovertemplate": "Gender=female<br>Age Group=Teen<br>Passenger Class=%{x}<br>Survival Rate=%{y}<extra></extra>",
         "legendgroup": "female",
         "marker": {
          "color": "#FF6B9C",
          "pattern": {
           "shape": ""
          }
         },
         "name": "female",
         "offsetgroup": "female",
         "orientation": "v",
         "showlegend": false,
         "textposition": "auto",
         "type": "bar",
         "x": {
          "bdata": "AQID",
          "dtype": "i1"
         },
         "xaxis": "x4",
         "y": {
          "bdata": "AAAAAAAA8D8AAAAAAADwP7bz/dR46eI/",
          "dtype": "f8"
         },
         "yaxis": "y4"
        },
        {
         "alignmentgroup": "True",
         "hovertemplate": "Gender=female<br>Age Group=Adult<br>Passenger Class=%{x}<br>Survival Rate=%{y}<extra></extra>",
         "legendgroup": "female",
         "marker": {
          "color": "#FF6B9C",
          "pattern": {
           "shape": ""
          }
         },
         "name": "female",
         "offsetgroup": "female",
         "orientation": "v",
         "showlegend": false,
         "textposition": "auto",
         "type": "bar",
         "x": {
          "bdata": "AQID",
          "dtype": "i1"
         },
         "xaxis": "x",
         "y": {
          "bdata": "30+Nl24S7z9OYhBYObTsP/T91HjpJtk/",
          "dtype": "f8"
         },
         "yaxis": "y"
        },
        {
         "alignmentgroup": "True",
         "hovertemplate": "Gender=female<br>Age Group=Senior<br>Passenger Class=%{x}<br>Survival Rate=%{y}<extra></extra>",
         "legendgroup": "female",
         "marker": {
          "color": "#FF6B9C",
          "pattern": {
           "shape": ""
          }
         },
         "name": "female",
         "offsetgroup": "female",
         "orientation": "v",
         "showlegend": false,
         "textposition": "auto",
         "type": "bar",
         "x": {
          "bdata": "AQID",
          "dtype": "i1"
         },
         "xaxis": "x2",
         "y": {
          "bdata": "AAAAAAAA8D8AAAAAAAD4/wAAAAAAAPA/",
          "dtype": "f8"
         },
         "yaxis": "y2"
        },
        {
         "alignmentgroup": "True",
         "hovertemplate": "Gender=male<br>Age Group=Child<br>Passenger Class=%{x}<br>Survival Rate=%{y}<extra></extra>",
         "legendgroup": "male",
         "marker": {
          "color": "#4A90E2",
          "pattern": {
           "shape": ""
          }
         },
         "name": "male",
         "offsetgroup": "male",
         "orientation": "v",
         "showlegend": true,
         "textposition": "auto",
         "type": "bar",
         "x": {
          "bdata": "AQID",
          "dtype": "i1"
         },
         "xaxis": "x3",
         "y": {
          "bdata": "AAAAAAAA8D8AAAAAAADwPwrXo3A9Ctc/",
          "dtype": "f8"
         },
         "yaxis": "y3"
        },
        {
         "alignmentgroup": "True",
         "hovertemplate": "Gender=male<br>Age Group=Teen<br>Passenger Class=%{x}<br>Survival Rate=%{y}<extra></extra>",
         "legendgroup": "male",
         "marker": {
          "color": "#4A90E2",
          "pattern": {
           "shape": ""
          }
         },
         "name": "male",
         "offsetgroup": "male",
         "orientation": "v",
         "showlegend": false,
         "textposition": "auto",
         "type": "bar",
         "x": {
          "bdata": "AQID",
          "dtype": "i1"
         },
         "xaxis": "x4",
         "y": {
          "bdata": "AAAAAAAA0D+amZmZmZm5P9NNYhBYObQ/",
          "dtype": "f8"
         },
         "yaxis": "y4"
        },
        {
         "alignmentgroup": "True",
         "hovertemplate": "Gender=male<br>Age Group=Adult<br>Passenger Class=%{x}<br>Survival Rate=%{y}<extra></extra>",
         "legendgroup": "male",
         "marker": {
          "color": "#4A90E2",
          "pattern": {
           "shape": ""
          }
         },
         "name": "male",
         "offsetgroup": "male",
         "orientation": "v",
         "showlegend": false,
         "textposition": "auto",
         "type": "bar",
         "x": {
          "bdata": "AQID",
          "dtype": "i1"
         },
         "xaxis": "x",
         "y": {
          "bdata": "MzMzMzMz2z+JQWDl0CKrP+xRuB6F68E/",
          "dtype": "f8"
         },
         "yaxis": "y"
        },
        {
         "alignmentgroup": "True",
         "hovertemplate": "Gender=male<br>Age Group=Senior<br>Passenger Class=%{x}<br>Survival Rate=%{y}<extra></extra>",
         "legendgroup": "male",
         "marker": {
          "color": "#4A90E2",
          "pattern": {
           "shape": ""
          }
         },
         "name": "male",
         "offsetgroup": "male",
         "orientation": "v",
         "showlegend": false,
         "textposition": "auto",
         "type": "bar",
         "x": {
          "bdata": "AQID",
          "dtype": "i1"
         },
         "xaxis": "x2",
         "y": {
          "bdata": "5/up8dJNwj8AAAAAAADQPwAAAAAAAAAA",
          "dtype": "f8"
         },
         "yaxis": "y2"
        }
       ],
       "layout": {
        "annotations": [
         {
          "showarrow": false,
          "text": "Adult",
          "x": 0.245,
          "xanchor": "center",
          "xref": "paper",
          "y": 0.46499999999999997,
          "yanchor": "bottom",
          "yref": "paper"
         },
         {
          "showarrow": false,
          "text": "Senior",
          "x": 0.755,
          "xanchor": "center",
          "xref": "paper",
          "y": 0.46499999999999997,
          "yanchor": "bottom",
          "yref": "paper"
         },
         {
          "showarrow": false,
          "text": "Child",
          "x": 0.245,
          "xanchor": "center",
          "xref": "paper",
          "y": 0.9999999999999999,
          "yanchor": "bottom",
          "yref": "paper"
         },
         {
          "showarrow": false,
          "text": "Teen",
          "x": 0.755,
          "xanchor": "center",
          "xref": "paper",
          "y": 0.9999999999999999,
          "yanchor": "bottom",
          "yref": "paper"
         },
         {
          "font": {
           "color": "black",
           "size": 10
          },
          "showarrow": false,
          "text": "0%",
          "x": 0.8,
          "xref": "x",
          "y": 0.05,
          "yref": "y"
         },
         {
          "font": {
           "color": "black",
           "size": 10
          },
          "showarrow": false,
          "text": "100%",
          "x": 0.8,
          "xref": "x2",
          "y": 1.05,
          "yref": "y2"
         },
         {
          "font": {
           "color": "black",
           "size": 10
          },
          "showarrow": false,
          "text": "97%",
          "x": 0.8,
          "xref": "x3",
          "y": 1.021,
          "yref": "y3"
         },
         {
          "font": {
           "color": "black",
           "size": 10
          },
          "showarrow": false,
          "text": "100%",
          "x": 0.8,
          "xref": "x4",
          "y": 1.05,
          "yref": "y4"
         },
         {
          "font": {
           "color": "black",
           "size": 10
          },
          "showarrow": false,
          "text": "100%",
          "x": 1.2,
          "xref": "x",
          "y": 1.05,
          "yref": "y"
         },
         {
          "font": {
           "color": "black",
           "size": 10
          },
          "showarrow": false,
          "text": "25%",
          "x": 1.2,
          "xref": "x2",
          "y": 0.3,
          "yref": "y2"
         },
         {
          "font": {
           "color": "black",
           "size": 10
          },
          "showarrow": false,
          "text": "42%",
          "x": 1.2,
          "xref": "x3",
          "y": 0.475,
          "yref": "y3"
         },
         {
          "font": {
           "color": "black",
           "size": 10
          },
          "showarrow": false,
          "text": "14%",
          "x": 1.2,
          "xref": "x4",
          "y": 0.193,
          "yref": "y4"
         },
         {
          "font": {
           "color": "black",
           "size": 10
          },
          "showarrow": false,
          "text": "100%",
          "x": 1.8,
          "xref": "x",
          "y": 1.05,
          "yref": "y"
         },
         {
          "font": {
           "color": "black",
           "size": 10
          },
          "showarrow": false,
          "text": "100%",
          "x": 1.8,
          "xref": "x2",
          "y": 1.05,
          "yref": "y2"
         },
         {
          "font": {
           "color": "black",
           "size": 10
          },
          "showarrow": false,
          "text": "90%",
          "x": 1.8,
          "xref": "x3",
          "y": 0.9470000000000001,
          "yref": "y3"
         },
         {
          "font": {
           "color": "black",
           "size": 10
          },
          "showarrow": false,
          "text": "nan%",
          "x": 1.8,
          "xref": "x4",
          "y": null,
          "yref": "y4"
         },
         {
          "font": {
           "color": "black",
           "size": 10
          },
          "showarrow": false,
          "text": "100%",
          "x": 2.2,
          "xref": "x",
          "y": 1.05,
          "yref": "y"
         },
         {
          "font": {
           "color": "black",
           "size": 10
          },
          "showarrow": false,
          "text": "10%",
          "x": 2.2,
          "xref": "x2",
          "y": 0.15000000000000002,
          "yref": "y2"
         },
         {
          "font": {
           "color": "black",
           "size": 10
          },
          "showarrow": false,
          "text": "5%",
          "x": 2.2,
          "xref": "x3",
          "y": 0.10300000000000001,
          "yref": "y3"
         },
         {
          "font": {
           "color": "black",
           "size": 10
          },
          "showarrow": false,
          "text": "25%",
          "x": 2.2,
          "xref": "x4",
          "y": 0.3,
          "yref": "y4"
         },
         {
          "font": {
           "color": "black",
           "size": 10
          },
          "showarrow": false,
          "text": "48%",
          "x": 2.8,
          "xref": "x",
          "y": 0.528,
          "yref": "y"
         },
         {
          "font": {
           "color": "black",
           "size": 10
          },
          "showarrow": false,
          "text": "59%",
          "x": 2.8,
          "xref": "x2",
          "y": 0.641,
          "yref": "y2"
         },
         {
          "font": {
           "color": "black",
           "size": 10
          },
          "showarrow": false,
          "text": "39%",
          "x": 2.8,
          "xref": "x3",
          "y": 0.443,
          "yref": "y3"
         },
         {
          "font": {
           "color": "black",
           "size": 10
          },
          "showarrow": false,
          "text": "100%",
          "x": 2.8,
          "xref": "x4",
          "y": 1.05,
          "yref": "y4"
         },
         {
          "font": {
           "color": "black",
           "size": 10
          },
          "showarrow": false,
          "text": "36%",
          "x": 3.2,
          "xref": "x",
          "y": 0.41,
          "yref": "y"
         },
         {
          "font": {
           "color": "black",
           "size": 10
          },
          "showarrow": false,
          "text": "8%",
          "x": 3.2,
          "xref": "x2",
          "y": 0.129,
          "yref": "y2"
         },
         {
          "font": {
           "color": "black",
           "size": 10
          },
          "showarrow": false,
          "text": "14%",
          "x": 3.2,
          "xref": "x3",
          "y": 0.19,
          "yref": "y3"
         },
         {
          "font": {
           "color": "black",
           "size": 10
          },
          "showarrow": false,
          "text": "0%",
          "x": 3.2,
          "xref": "x4",
          "y": 0.05,
          "yref": "y4"
         }
        ],
        "barmode": "group",
        "height": 600,
        "legend": {
         "orientation": "h",
         "title": {
          "text": "Gender"
         },
         "tracegroupgap": 0,
         "x": 1,
         "xanchor": "right",
         "y": 1.02,
         "yanchor": "bottom"
        },
        "showlegend": true,
        "template": {
         "data": {
          "candlestick": [
           {
            "decreasing": {
             "line": {
              "color": "#000033"
             }
            },
            "increasing": {
             "line": {
              "color": "#000032"
             }
            },
            "type": "candlestick"
           }
          ],
          "contour": [
           {
            "colorscale": [
             [
              0,
              "#000011"
             ],
             [
              0.1111111111111111,
              "#000012"
             ],
             [
              0.2222222222222222,
              "#000013"
             ],
             [
              0.3333333333333333,
              "#000014"
             ],
             [
              0.4444444444444444,
              "#000015"
             ],
             [
              0.5555555555555556,
              "#000016"
             ],
             [
              0.6666666666666666,
              "#000017"
             ],
             [
              0.7777777777777778,
              "#000018"
             ],
             [
              0.8888888888888888,
              "#000019"
             ],
             [
              1,
              "#000020"
             ]
            ],
            "type": "contour"
           }
          ],
          "contourcarpet": [
           {
            "colorscale": [
             [
              0,
              "#000011"
             ],
             [
              0.1111111111111111,
              "#000012"
             ],
             [
              0.2222222222222222,
              "#000013"
             ],
             [
              0.3333333333333333,
              "#000014"
             ],
             [
              0.4444444444444444,
              "#000015"
             ],
             [
              0.5555555555555556,
              "#000016"
             ],
             [
              0.6666666666666666,
              "#000017"
             ],
             [
              0.7777777777777778,
              "#000018"
             ],
             [
              0.8888888888888888,
              "#000019"
             ],
             [
              1,
              "#000020"
             ]
            ],
            "type": "contourcarpet"
           }
          ],
          "heatmap": [
           {
            "colorscale": [
             [
              0,
              "#000011"
             ],
             [
              0.1111111111111111,
              "#000012"
             ],
             [
              0.2222222222222222,
              "#000013"
             ],
             [
              0.3333333333333333,
              "#000014"
             ],
             [
              0.4444444444444444,
              "#000015"
             ],
             [
              0.5555555555555556,
              "#000016"
             ],
             [
              0.6666666666666666,
              "#000017"
             ],
             [
              0.7777777777777778,
              "#000018"
             ],
             [
              0.8888888888888888,
              "#000019"
             ],
             [
              1,
              "#000020"
             ]
            ],
            "type": "heatmap"
           }
          ],
          "histogram2d": [
           {
            "colorscale": [
             [
              0,
              "#000011"
             ],
             [
              0.1111111111111111,
              "#000012"
             ],
             [
              0.2222222222222222,
              "#000013"
             ],
             [
              0.3333333333333333,
              "#000014"
             ],
             [
              0.4444444444444444,
              "#000015"
             ],
             [
              0.5555555555555556,
              "#000016"
             ],
             [
              0.6666666666666666,
              "#000017"
             ],
             [
              0.7777777777777778,
              "#000018"
             ],
             [
              0.8888888888888888,
              "#000019"
             ],
             [
              1,
              "#000020"
             ]
            ],
            "type": "histogram2d"
           }
          ],
          "icicle": [
           {
            "textfont": {
             "color": "white"
            },
            "type": "icicle"
           }
          ],
          "sankey": [
           {
            "textfont": {
             "color": "#000036"
            },
            "type": "sankey"
           }
          ],
          "scatter": [
           {
            "marker": {
             "line": {
              "width": 0
             }
            },
            "type": "scatter"
           }
          ],
          "table": [
           {
            "cells": {
             "fill": {
              "color": "#000038"
             },
             "font": {
              "color": "#000037"
             },
             "line": {
              "color": "#000039"
             }
            },
            "header": {
             "fill": {
              "color": "#000040"
             },
             "font": {
              "color": "#000036"
             },
             "line": {
              "color": "#000039"
             }
            },
            "type": "table"
           }
          ],
          "waterfall": [
           {
            "connector": {
             "line": {
              "color": "#000036",
              "width": 2
             }
            },
            "decreasing": {
             "marker": {
              "color": "#000033"
             }
            },
            "increasing": {
             "marker": {
              "color": "#000032"
             }
            },
            "totals": {
             "marker": {
              "color": "#000034"
             }
            },
            "type": "waterfall"
           }
          ]
         },
         "layout": {
          "coloraxis": {
           "colorscale": [
            [
             0,
             "#000011"
            ],
            [
             0.1111111111111111,
             "#000012"
            ],
            [
             0.2222222222222222,
             "#000013"
            ],
            [
             0.3333333333333333,
             "#000014"
            ],
            [
             0.4444444444444444,
             "#000015"
            ],
            [
             0.5555555555555556,
             "#000016"
            ],
            [
             0.6666666666666666,
             "#000017"
            ],
            [
             0.7777777777777778,
             "#000018"
            ],
            [
             0.8888888888888888,
             "#000019"
            ],
            [
             1,
             "#000020"
            ]
           ]
          },
          "colorscale": {
           "diverging": [
            [
             0,
             "#000021"
            ],
            [
             0.1,
             "#000022"
            ],
            [
             0.2,
             "#000023"
            ],
            [
             0.3,
             "#000024"
            ],
            [
             0.4,
             "#000025"
            ],
            [
             0.5,
             "#000026"
            ],
            [
             0.6,
             "#000027"
            ],
            [
             0.7,
             "#000028"
            ],
            [
             0.8,
             "#000029"
            ],
            [
             0.9,
             "#000030"
            ],
            [
             1,
             "#000031"
            ]
           ],
           "sequential": [
            [
             0,
             "#000011"
            ],
            [
             0.1111111111111111,
             "#000012"
            ],
            [
             0.2222222222222222,
             "#000013"
            ],
            [
             0.3333333333333333,
             "#000014"
            ],
            [
             0.4444444444444444,
             "#000015"
            ],
            [
             0.5555555555555556,
             "#000016"
            ],
            [
             0.6666666666666666,
             "#000017"
            ],
            [
             0.7777777777777778,
             "#000018"
            ],
            [
             0.8888888888888888,
             "#000019"
            ],
            [
             1,
             "#000020"
            ]
           ],
           "sequentialminus": [
            [
             0,
             "#000011"
            ],
            [
             0.1111111111111111,
             "#000012"
            ],
            [
             0.2222222222222222,
             "#000013"
            ],
            [
             0.3333333333333333,
             "#000014"
            ],
            [
             0.4444444444444444,
             "#000015"
            ],
            [
             0.5555555555555556,
             "#000016"
            ],
            [
             0.6666666666666666,
             "#000017"
            ],
            [
             0.7777777777777778,
             "#000018"
            ],
            [
             0.8888888888888888,
             "#000019"
            ],
            [
             1,
             "#000020"
            ]
           ]
          },
          "colorway": [
           "#000001",
           "#000002",
           "#000003",
           "#000004",
           "#000005",
           "#000006",
           "#000007",
           "#000008",
           "#000009",
           "#000010"
          ]
         }
        },
        "title": {
         "text": "Titanic Survival Rates: Women vs Men Across Classes and Age Groups"
        },
        "xaxis": {
         "anchor": "y",
         "categoryarray": [
          1,
          2,
          3
         ],
         "categoryorder": "array",
         "domain": [
          0,
          0.49
         ],
         "title": {
          "text": "Passenger Class"
         }
        },
        "xaxis2": {
         "anchor": "y2",
         "categoryarray": [
          1,
          2,
          3
         ],
         "categoryorder": "array",
         "domain": [
          0.51,
          1
         ],
         "matches": "x",
         "title": {
          "text": "Passenger Class"
         }
        },
        "xaxis3": {
         "anchor": "y3",
         "domain": [
          0,
          0.49
         ],
         "matches": "x",
         "showticklabels": false
        },
        "xaxis4": {
         "anchor": "y4",
         "domain": [
          0.51,
          1
         ],
         "matches": "x",
         "showticklabels": false
        },
        "yaxis": {
         "anchor": "x",
         "domain": [
          0,
          0.46499999999999997
         ],
         "range": [
          0,
          1.1
         ],
         "tickformat": ",.0%",
         "title": {
          "text": "Survival Rate"
         }
        },
        "yaxis2": {
         "anchor": "x2",
         "domain": [
          0,
          0.46499999999999997
         ],
         "matches": "y",
         "showticklabels": false
        },
        "yaxis3": {
         "anchor": "x3",
         "domain": [
          0.5349999999999999,
          0.9999999999999999
         ],
         "matches": "y",
         "title": {
          "text": "Survival Rate"
         }
        },
        "yaxis4": {
         "anchor": "x4",
         "domain": [
          0.5349999999999999,
          0.9999999999999999
         ],
         "matches": "y",
         "showticklabels": false
        }
       }
      }
     },
     "metadata": {},
     "output_type": "display_data"
    }
   ],
   "source": [
    "import streamlit as st\n",
    "import pandas as pd\n",
    "import plotly.express as px\n",
    "import plotly.graph_objects as go\n",
    "\n",
    "df = pd.read_csv('https://raw.githubusercontent.com/leontoddjohnson/datasets/main/data/titanic.csv')\n",
    "\n",
    "def survival_demographics():\n",
    "    \"\"\"\n",
    "    Analyze survival patterns by passenger class, sex, and age group.\n",
    "    Returns a DataFrame with passenger counts, survivor counts, and survival rates.\n",
    "    \"\"\"\n",
    "    # Age categories\n",
    "    bins = [0, 12, 19, 59, 100]\n",
    "    labels = ['Child', 'Teen', 'Adult', 'Senior']\n",
    "    df['age_group'] = pd.cut(df['Age'], bins=bins, labels=labels, right=True)\n",
    "    \n",
    "    # Group by class, sex, and age group\n",
    "    grouped = df.groupby(['Pclass', 'Sex', 'age_group']).agg(\n",
    "        n_passengers=('PassengerId', 'count'),\n",
    "        n_survivors=('Survived', 'sum')\n",
    "    ).reset_index()\n",
    "    \n",
    "    #survival rate\n",
    "    grouped['survival_rate'] = (grouped['n_survivors'] / grouped['n_passengers']).round(3)\n",
    "    \n",
    "    grouped = grouped.sort_values(['Pclass', 'Sex', 'age_group'])\n",
    "    \n",
    "    return grouped\n",
    "\n",
    "def visualize_demographic():\n",
    "    \"\"\"\n",
    "    Create a visualization with distinct colors for men and women\n",
    "    showing survival rates across passenger classes and age groups.\n",
    "    \"\"\"\n",
    "    data = survival_demographics()\n",
    "    \n",
    "    fig = px.bar(\n",
    "        data,\n",
    "        x='Pclass',\n",
    "        y='survival_rate',\n",
    "        color='Sex',\n",
    "        facet_col='age_group',\n",
    "        facet_col_wrap=2,\n",
    "        title='Titanic Survival Rates: Women vs Men Across Classes and Age Groups',\n",
    "        labels={\n",
    "            'survival_rate': 'Survival Rate',\n",
    "            'Pclass': 'Passenger Class',\n",
    "            'Sex': 'Gender',\n",
    "            'age_group': 'Age Group'\n",
    "        },\n",
    "        category_orders={\n",
    "            'Pclass': [1, 2, 3],\n",
    "            'Sex': ['female', 'male'],\n",
    "            'age_group': ['Child', 'Teen', 'Adult', 'Senior']\n",
    "        },\n",
    "        barmode='group',\n",
    "        color_discrete_map={\n",
    "            'female': '#FF6B9C',  \n",
    "            'male': '#4A90E2'    \n",
    "        }\n",
    "    )\n",
    "    \n",
    "    # Customize the layout\n",
    "    fig.update_layout(\n",
    "        yaxis_tickformat=',.0%',\n",
    "        yaxis_range=[0, 1.1],\n",
    "        height=600,\n",
    "        showlegend=True,\n",
    "        legend=dict(\n",
    "            orientation=\"h\",\n",
    "            yanchor=\"bottom\",\n",
    "            y=1.02,\n",
    "            xanchor=\"right\",\n",
    "            x=1\n",
    "        )\n",
    "    )\n",
    "    \n",
    "    fig.for_each_annotation(lambda a: a.update(text=a.text.split(\"=\")[-1]))\n",
    "    \n",
    "    for i, row in data.iterrows():\n",
    "        class_offset = -0.2 if row['Sex'] == 'female' else 0.2\n",
    "        facet_col = ['Child', 'Teen', 'Adult', 'Senior'].index(row['age_group'])\n",
    "        \n",
    "        fig.add_annotation(\n",
    "            x=row['Pclass'] + class_offset,\n",
    "            y=row['survival_rate'] + 0.05,\n",
    "            text=f\"{row['survival_rate']:.0%}\",\n",
    "            showarrow=False,\n",
    "            font=dict(size=10, color='black'),\n",
    "            xref=f\"x{facet_col+1 if facet_col > 0 else ''}\",\n",
    "            yref=f\"y{facet_col+1 if facet_col > 0 else ''}\"\n",
    "        )\n",
    "    \n",
    "    return fig\n",
    "\n",
    "visualize_demographic()"
   ]
  },
  {
   "cell_type": "code",
   "execution_count": null,
   "id": "92154577",
   "metadata": {},
   "outputs": [
    {
     "name": "stderr",
     "output_type": "stream",
     "text": [
      "/tmp/ipykernel_1028/4260034809.py:20: FutureWarning:\n",
      "\n",
      "The default of observed=False is deprecated and will be changed to True in a future version of pandas. Pass observed=False to retain current behavior or observed=True to adopt the future default and silence this warning.\n",
      "\n"
     ]
    },
    {
     "data": {
      "application/vnd.plotly.v1+json": {
       "config": {
        "plotlyServerURL": "https://plot.ly"
       },
       "data": [
        {
         "hovertemplate": "Passenger Class=1<br>Survival Rate Advantage for Women=%{marker.color}<br>Age Group=%{y}<extra></extra>",
         "legendgroup": "",
         "marker": {
          "color": {
           "bdata": "AAAAAAAA8L8AAAAAAADoP0a28/3UeOE/BoGVQ4ts6z8=",
           "dtype": "f8"
          },
          "coloraxis": "coloraxis",
          "pattern": {
           "shape": ""
          }
         },
         "name": "",
         "orientation": "h",
         "showlegend": false,
         "textposition": "auto",
         "type": "bar",
         "x": {
          "bdata": "AAAAAAAA8L8AAAAAAADoP0a28/3UeOE/BoGVQ4ts6z8=",
          "dtype": "f8"
         },
         "xaxis": "x",
         "y": [
          "Child",
          "Teen",
          "Adult",
          "Senior"
         ],
         "yaxis": "y"
        },
        {
         "hovertemplate": "Passenger Class=2<br>Survival Rate Advantage for Women=%{marker.color}<br>Age Group=%{y}<extra></extra>",
         "legendgroup": "",
         "marker": {
          "color": {
           "bdata": "AAAAAAAAAADNzMzMzMzsPzVeukkMAus/AAAAAAAA+P8=",
           "dtype": "f8"
          },
          "coloraxis": "coloraxis",
          "pattern": {
           "shape": ""
          }
         },
         "name": "",
         "orientation": "h",
         "showlegend": false,
         "textposition": "auto",
         "type": "bar",
         "x": {
          "bdata": "AAAAAAAAAADNzMzMzMzsPzVeukkMAus/AAAAAAAA+P8=",
          "dtype": "f8"
         },
         "xaxis": "x2",
         "y": [
          "Child",
          "Teen",
          "Adult",
          "Senior"
         ],
         "yaxis": "y2"
        },
        {
         "hovertemplate": "Passenger Class=3<br>Survival Rate Advantage for Women=%{marker.color}<br>Age Group=%{y}<extra></extra>",
         "legendgroup": "",
         "marker": {
          "color": {
           "bdata": "aJHtfD81vj/8qfHSTWLgP/7UeOkmMdA/AAAAAAAA8D8=",
           "dtype": "f8"
          },
          "coloraxis": "coloraxis",
          "pattern": {
           "shape": ""
          }
         },
         "name": "",
         "orientation": "h",
         "showlegend": false,
         "textposition": "auto",
         "type": "bar",
         "x": {
          "bdata": "aJHtfD81vj/8qfHSTWLgP/7UeOkmMdA/AAAAAAAA8D8=",
          "dtype": "f8"
         },
         "xaxis": "x3",
         "y": [
          "Child",
          "Teen",
          "Adult",
          "Senior"
         ],
         "yaxis": "y3"
        }
       ],
       "layout": {
        "annotations": [
         {
          "showarrow": false,
          "text": "Class 1",
          "x": 0.15999999999999998,
          "xanchor": "center",
          "xref": "paper",
          "y": 1,
          "yanchor": "bottom",
          "yref": "paper"
         },
         {
          "showarrow": false,
          "text": "Class 2",
          "x": 0.49999999999999994,
          "xanchor": "center",
          "xref": "paper",
          "y": 1,
          "yanchor": "bottom",
          "yref": "paper"
         },
         {
          "showarrow": false,
          "text": "Class 3",
          "x": 0.8399999999999999,
          "xanchor": "center",
          "xref": "paper",
          "y": 1,
          "yanchor": "bottom",
          "yref": "paper"
         }
        ],
        "barmode": "relative",
        "coloraxis": {
         "cmax": 1,
         "cmin": -1,
         "colorbar": {
          "title": {
           "text": "Survival Rate Advantage for Women"
          }
         },
         "colorscale": [
          [
           0,
           "rgb(165,0,38)"
          ],
          [
           0.1,
           "rgb(215,48,39)"
          ],
          [
           0.2,
           "rgb(244,109,67)"
          ],
          [
           0.3,
           "rgb(253,174,97)"
          ],
          [
           0.4,
           "rgb(254,224,144)"
          ],
          [
           0.5,
           "rgb(255,255,191)"
          ],
          [
           0.6,
           "rgb(224,243,248)"
          ],
          [
           0.7,
           "rgb(171,217,233)"
          ],
          [
           0.8,
           "rgb(116,173,209)"
          ],
          [
           0.9,
           "rgb(69,117,180)"
          ],
          [
           1,
           "rgb(49,54,149)"
          ]
         ]
        },
        "height": 500,
        "legend": {
         "tracegroupgap": 0
        },
        "shapes": [
         {
          "line": {
           "color": "black",
           "dash": "dash"
          },
          "type": "line",
          "x0": 0,
          "x1": 0,
          "xref": "x",
          "y0": 0,
          "y1": 1,
          "yref": "y domain"
         },
         {
          "line": {
           "color": "black",
           "dash": "dash"
          },
          "type": "line",
          "x0": 0,
          "x1": 0,
          "xref": "x2",
          "y0": 0,
          "y1": 1,
          "yref": "y2 domain"
         },
         {
          "line": {
           "color": "black",
           "dash": "dash"
          },
          "type": "line",
          "x0": 0,
          "x1": 0,
          "xref": "x3",
          "y0": 0,
          "y1": 1,
          "yref": "y3 domain"
         }
        ],
        "showlegend": false,
        "template": {
         "data": {
          "candlestick": [
           {
            "decreasing": {
             "line": {
              "color": "#000033"
             }
            },
            "increasing": {
             "line": {
              "color": "#000032"
             }
            },
            "type": "candlestick"
           }
          ],
          "contour": [
           {
            "colorscale": [
             [
              0,
              "#000011"
             ],
             [
              0.1111111111111111,
              "#000012"
             ],
             [
              0.2222222222222222,
              "#000013"
             ],
             [
              0.3333333333333333,
              "#000014"
             ],
             [
              0.4444444444444444,
              "#000015"
             ],
             [
              0.5555555555555556,
              "#000016"
             ],
             [
              0.6666666666666666,
              "#000017"
             ],
             [
              0.7777777777777778,
              "#000018"
             ],
             [
              0.8888888888888888,
              "#000019"
             ],
             [
              1,
              "#000020"
             ]
            ],
            "type": "contour"
           }
          ],
          "contourcarpet": [
           {
            "colorscale": [
             [
              0,
              "#000011"
             ],
             [
              0.1111111111111111,
              "#000012"
             ],
             [
              0.2222222222222222,
              "#000013"
             ],
             [
              0.3333333333333333,
              "#000014"
             ],
             [
              0.4444444444444444,
              "#000015"
             ],
             [
              0.5555555555555556,
              "#000016"
             ],
             [
              0.6666666666666666,
              "#000017"
             ],
             [
              0.7777777777777778,
              "#000018"
             ],
             [
              0.8888888888888888,
              "#000019"
             ],
             [
              1,
              "#000020"
             ]
            ],
            "type": "contourcarpet"
           }
          ],
          "heatmap": [
           {
            "colorscale": [
             [
              0,
              "#000011"
             ],
             [
              0.1111111111111111,
              "#000012"
             ],
             [
              0.2222222222222222,
              "#000013"
             ],
             [
              0.3333333333333333,
              "#000014"
             ],
             [
              0.4444444444444444,
              "#000015"
             ],
             [
              0.5555555555555556,
              "#000016"
             ],
             [
              0.6666666666666666,
              "#000017"
             ],
             [
              0.7777777777777778,
              "#000018"
             ],
             [
              0.8888888888888888,
              "#000019"
             ],
             [
              1,
              "#000020"
             ]
            ],
            "type": "heatmap"
           }
          ],
          "histogram2d": [
           {
            "colorscale": [
             [
              0,
              "#000011"
             ],
             [
              0.1111111111111111,
              "#000012"
             ],
             [
              0.2222222222222222,
              "#000013"
             ],
             [
              0.3333333333333333,
              "#000014"
             ],
             [
              0.4444444444444444,
              "#000015"
             ],
             [
              0.5555555555555556,
              "#000016"
             ],
             [
              0.6666666666666666,
              "#000017"
             ],
             [
              0.7777777777777778,
              "#000018"
             ],
             [
              0.8888888888888888,
              "#000019"
             ],
             [
              1,
              "#000020"
             ]
            ],
            "type": "histogram2d"
           }
          ],
          "icicle": [
           {
            "textfont": {
             "color": "white"
            },
            "type": "icicle"
           }
          ],
          "sankey": [
           {
            "textfont": {
             "color": "#000036"
            },
            "type": "sankey"
           }
          ],
          "scatter": [
           {
            "marker": {
             "line": {
              "width": 0
             }
            },
            "type": "scatter"
           }
          ],
          "table": [
           {
            "cells": {
             "fill": {
              "color": "#000038"
             },
             "font": {
              "color": "#000037"
             },
             "line": {
              "color": "#000039"
             }
            },
            "header": {
             "fill": {
              "color": "#000040"
             },
             "font": {
              "color": "#000036"
             },
             "line": {
              "color": "#000039"
             }
            },
            "type": "table"
           }
          ],
          "waterfall": [
           {
            "connector": {
             "line": {
              "color": "#000036",
              "width": 2
             }
            },
            "decreasing": {
             "marker": {
              "color": "#000033"
             }
            },
            "increasing": {
             "marker": {
              "color": "#000032"
             }
            },
            "totals": {
             "marker": {
              "color": "#000034"
             }
            },
            "type": "waterfall"
           }
          ]
         },
         "layout": {
          "coloraxis": {
           "colorscale": [
            [
             0,
             "#000011"
            ],
            [
             0.1111111111111111,
             "#000012"
            ],
            [
             0.2222222222222222,
             "#000013"
            ],
            [
             0.3333333333333333,
             "#000014"
            ],
            [
             0.4444444444444444,
             "#000015"
            ],
            [
             0.5555555555555556,
             "#000016"
            ],
            [
             0.6666666666666666,
             "#000017"
            ],
            [
             0.7777777777777778,
             "#000018"
            ],
            [
             0.8888888888888888,
             "#000019"
            ],
            [
             1,
             "#000020"
            ]
           ]
          },
          "colorscale": {
           "diverging": [
            [
             0,
             "#000021"
            ],
            [
             0.1,
             "#000022"
            ],
            [
             0.2,
             "#000023"
            ],
            [
             0.3,
             "#000024"
            ],
            [
             0.4,
             "#000025"
            ],
            [
             0.5,
             "#000026"
            ],
            [
             0.6,
             "#000027"
            ],
            [
             0.7,
             "#000028"
            ],
            [
             0.8,
             "#000029"
            ],
            [
             0.9,
             "#000030"
            ],
            [
             1,
             "#000031"
            ]
           ],
           "sequential": [
            [
             0,
             "#000011"
            ],
            [
             0.1111111111111111,
             "#000012"
            ],
            [
             0.2222222222222222,
             "#000013"
            ],
            [
             0.3333333333333333,
             "#000014"
            ],
            [
             0.4444444444444444,
             "#000015"
            ],
            [
             0.5555555555555556,
             "#000016"
            ],
            [
             0.6666666666666666,
             "#000017"
            ],
            [
             0.7777777777777778,
             "#000018"
            ],
            [
             0.8888888888888888,
             "#000019"
            ],
            [
             1,
             "#000020"
            ]
           ],
           "sequentialminus": [
            [
             0,
             "#000011"
            ],
            [
             0.1111111111111111,
             "#000012"
            ],
            [
             0.2222222222222222,
             "#000013"
            ],
            [
             0.3333333333333333,
             "#000014"
            ],
            [
             0.4444444444444444,
             "#000015"
            ],
            [
             0.5555555555555556,
             "#000016"
            ],
            [
             0.6666666666666666,
             "#000017"
            ],
            [
             0.7777777777777778,
             "#000018"
            ],
            [
             0.8888888888888888,
             "#000019"
            ],
            [
             1,
             "#000020"
            ]
           ]
          },
          "colorway": [
           "#000001",
           "#000002",
           "#000003",
           "#000004",
           "#000005",
           "#000006",
           "#000007",
           "#000008",
           "#000009",
           "#000010"
          ]
         }
        },
        "title": {
         "text": "Survival Advantage: Women vs Men Across Classes and Age Groups"
        },
        "xaxis": {
         "anchor": "y",
         "domain": [
          0,
          0.31999999999999995
         ],
         "tickformat": ",.0%",
         "title": {
          "text": "Women's Survival Advantage Over Men"
         }
        },
        "xaxis2": {
         "anchor": "y2",
         "domain": [
          0.33999999999999997,
          0.6599999999999999
         ],
         "matches": "x",
         "title": {
          "text": "Survival Rate Advantage for Women"
         }
        },
        "xaxis3": {
         "anchor": "y3",
         "domain": [
          0.6799999999999999,
          0.9999999999999999
         ],
         "matches": "x",
         "title": {
          "text": "Survival Rate Advantage for Women"
         }
        },
        "yaxis": {
         "anchor": "x",
         "domain": [
          0,
          1
         ],
         "title": {
          "text": "Age Group"
         }
        },
        "yaxis2": {
         "anchor": "x2",
         "domain": [
          0,
          1
         ],
         "matches": "y",
         "showticklabels": false
        },
        "yaxis3": {
         "anchor": "x3",
         "domain": [
          0,
          1
         ],
         "matches": "y",
         "showticklabels": false
        }
       }
      }
     },
     "metadata": {},
     "output_type": "display_data"
    }
   ],
   "source": [
    "def visualize_gender_comparison():\n",
    "    data = survival_demographics()\n",
    "    \n",
    "    # Calculate the difference in survival rates between women and men\n",
    "    women_data = data[data['Sex'] == 'female'].set_index(['Pclass', 'age_group'])\n",
    "    men_data = data[data['Sex'] == 'male'].set_index(['Pclass', 'age_group'])\n",
    "    \n",
    "    comparison_data = women_data[['survival_rate']].copy()\n",
    "    comparison_data.columns = ['women_survival_rate']\n",
    "    comparison_data['men_survival_rate'] = men_data['survival_rate']\n",
    "    comparison_data['survival_difference'] = comparison_data['women_survival_rate'] - comparison_data['men_survival_rate']\n",
    "    comparison_data = comparison_data.reset_index()\n",
    "    \n",
    "    fig = px.bar(\n",
    "        comparison_data,\n",
    "        x='survival_difference',\n",
    "        y='age_group',\n",
    "        color='survival_difference',\n",
    "        facet_col='Pclass',\n",
    "        title='Survival Advantage: Women vs Men Across Classes and Age Groups',\n",
    "        labels={\n",
    "            'survival_difference': 'Survival Rate Advantage for Women',\n",
    "            'age_group': 'Age Group',\n",
    "            'Pclass': 'Passenger Class'\n",
    "        },\n",
    "        color_continuous_scale='RdYlBu',\n",
    "        range_color=[-1, 1]\n",
    "    )\n",
    "    \n",
    "    fig.update_layout(\n",
    "        height=500,\n",
    "        showlegend=False,\n",
    "        xaxis=dict(tickformat=',.0%'),\n",
    "        xaxis_title=\"Women's Survival Advantage Over Men\"\n",
    "    )\n",
    "    \n",
    "    fig.for_each_annotation(lambda a: a.update(text=f\"Class {a.text.split('=')[1]}\"))\n",
    "    \n",
    "    for i in range(1, 4):\n",
    "        fig.add_vline(x=0, line_dash=\"dash\", line_color=\"black\", \n",
    "                     row=1, col=i)\n",
    "    \n",
    "    return fig\n",
    "visualize_gender_comparison()"
   ]
  },
  {
   "cell_type": "code",
   "execution_count": null,
   "id": "7bb49893",
   "metadata": {},
   "outputs": [
    {
     "name": "stderr",
     "output_type": "stream",
     "text": [
      "2025-10-01 00:50:13.519 Thread 'MainThread': missing ScriptRunContext! This warning can be ignored when running in bare mode.\n",
      "2025-10-01 00:50:13.520 Thread 'MainThread': missing ScriptRunContext! This warning can be ignored when running in bare mode.\n",
      "2025-10-01 00:50:13.521 Thread 'MainThread': missing ScriptRunContext! This warning can be ignored when running in bare mode.\n",
      "/tmp/ipykernel_1028/4260034809.py:20: FutureWarning:\n",
      "\n",
      "The default of observed=False is deprecated and will be changed to True in a future version of pandas. Pass observed=False to retain current behavior or observed=True to adopt the future default and silence this warning.\n",
      "\n",
      "2025-10-01 00:50:13.697 Thread 'MainThread': missing ScriptRunContext! This warning can be ignored when running in bare mode.\n",
      "2025-10-01 00:50:13.698 Thread 'MainThread': missing ScriptRunContext! This warning can be ignored when running in bare mode.\n",
      "2025-10-01 00:50:13.700 Thread 'MainThread': missing ScriptRunContext! This warning can be ignored when running in bare mode.\n",
      "2025-10-01 00:50:13.703 Thread 'MainThread': missing ScriptRunContext! This warning can be ignored when running in bare mode.\n",
      "2025-10-01 00:50:13.704 Thread 'MainThread': missing ScriptRunContext! This warning can be ignored when running in bare mode.\n",
      "2025-10-01 00:50:13.706 Thread 'MainThread': missing ScriptRunContext! This warning can be ignored when running in bare mode.\n",
      "2025-10-01 00:50:13.710 Thread 'MainThread': missing ScriptRunContext! This warning can be ignored when running in bare mode.\n",
      "2025-10-01 00:50:13.711 Thread 'MainThread': missing ScriptRunContext! This warning can be ignored when running in bare mode.\n",
      "/tmp/ipykernel_1028/4260034809.py:20: FutureWarning:\n",
      "\n",
      "The default of observed=False is deprecated and will be changed to True in a future version of pandas. Pass observed=False to retain current behavior or observed=True to adopt the future default and silence this warning.\n",
      "\n",
      "2025-10-01 00:50:13.780 Thread 'MainThread': missing ScriptRunContext! This warning can be ignored when running in bare mode.\n",
      "2025-10-01 00:50:13.780 Thread 'MainThread': missing ScriptRunContext! This warning can be ignored when running in bare mode.\n",
      "2025-10-01 00:50:13.781 Thread 'MainThread': missing ScriptRunContext! This warning can be ignored when running in bare mode.\n",
      "2025-10-01 00:50:13.782 Thread 'MainThread': missing ScriptRunContext! This warning can be ignored when running in bare mode.\n",
      "2025-10-01 00:50:13.782 Thread 'MainThread': missing ScriptRunContext! This warning can be ignored when running in bare mode.\n",
      "2025-10-01 00:50:13.783 Thread 'MainThread': missing ScriptRunContext! This warning can be ignored when running in bare mode.\n",
      "2025-10-01 00:50:13.785 Thread 'MainThread': missing ScriptRunContext! This warning can be ignored when running in bare mode.\n",
      "2025-10-01 00:50:13.785 Thread 'MainThread': missing ScriptRunContext! This warning can be ignored when running in bare mode.\n",
      "/tmp/ipykernel_1028/4260034809.py:20: FutureWarning:\n",
      "\n",
      "The default of observed=False is deprecated and will be changed to True in a future version of pandas. Pass observed=False to retain current behavior or observed=True to adopt the future default and silence this warning.\n",
      "\n",
      "2025-10-01 00:50:13.799 Thread 'MainThread': missing ScriptRunContext! This warning can be ignored when running in bare mode.\n",
      "2025-10-01 00:50:13.799 Thread 'MainThread': missing ScriptRunContext! This warning can be ignored when running in bare mode.\n",
      "2025-10-01 00:50:13.800 Thread 'MainThread': missing ScriptRunContext! This warning can be ignored when running in bare mode.\n",
      "2025-10-01 00:50:13.801 Thread 'MainThread': missing ScriptRunContext! This warning can be ignored when running in bare mode.\n",
      "2025-10-01 00:50:13.801 Thread 'MainThread': missing ScriptRunContext! This warning can be ignored when running in bare mode.\n",
      "2025-10-01 00:50:13.802 Thread 'MainThread': missing ScriptRunContext! This warning can be ignored when running in bare mode.\n",
      "2025-10-01 00:50:13.802 Thread 'MainThread': missing ScriptRunContext! This warning can be ignored when running in bare mode.\n",
      "2025-10-01 00:50:13.803 Thread 'MainThread': missing ScriptRunContext! This warning can be ignored when running in bare mode.\n",
      "2025-10-01 00:50:13.804 Thread 'MainThread': missing ScriptRunContext! This warning can be ignored when running in bare mode.\n"
     ]
    }
   ],
   "source": [
    "\n",
    "st.write(\n",
    "'''\n",
    "# Titanic Visualization 1 - Demographic Analysis\n",
    "\n",
    "**Research Question:** How did the survival rates for women and children compare across different passenger classes, and were there situations where class privilege significantly altered expected survival patterns?\n",
    "\n",
    "'''\n",
    ")\n",
    "\n",
    "fig1 = visualize_demographic()\n",
    "st.plotly_chart(fig1, use_container_width=True)\n",
    "\n",
    "st.write(\n",
    "'''\n",
    "# Titanic Visualization 2 - Gender Comparison\n",
    "'''\n",
    ")\n",
    "\n",
    "fig2 = visualize_gender_comparison()\n",
    "st.plotly_chart(fig2, use_container_width=True)\n",
    "\n",
    "#data table\n",
    "st.write(\"### Underlying Data\")\n",
    "demographic_data = survival_demographics()\n",
    "st.dataframe(demographic_data)\n",
    "\n",
    "st.write(\"### Key Insights\")\n",
    "st.write(\"\"\"\n",
    "- **Women's Advantage**: Across all classes and age groups, women had significantly higher survival rates than men\n",
    "- **Class Matters**: First Class women had near-perfect survival rates (75-100%), while Third Class women had more varied outcomes\n",
    "- **Children First**: The 'women and children first' protocol is evident, but class privilege amplified its effects\n",
    "- **Notable Exception**: Third Class men had extremely low survival rates across all age groups\n",
    "- **Color Coding**: Pink bars represent women, blue bars represent men - making gender comparisons immediate and clear\n",
    "\"\"\")"
   ]
  },
  {
   "cell_type": "markdown",
   "id": "3e8a0793",
   "metadata": {},
   "source": [
    "## Exercise 2: Family Size and Wealth"
   ]
  },
  {
   "cell_type": "markdown",
   "id": "93bea550",
   "metadata": {},
   "source": [
    "Using the Titanic dataset, write a function named `family_groups()` to explore the relationship between family size, passenger class, and ticket fare.  \n",
    "\n",
    "1. Create a new column in the Titanic dataset that represents the total family size for each passenger, `family_size`. Family size is defined as the number of siblings/spouses aboard plus the number of parents/children aboard, plus the passenger themselves.\n",
    "\n",
    "2. Group the passengers by family size and passenger class. For each group, calculate:  \n",
    "   - The total number of passengers, `n_passengers`\n",
    "   - The average ticket fare, `avg_fare`\n",
    "   - The minimum and maximum ticket fares (to capture variation in wealth), `min_fare` and `max_fare`\n",
    "\n",
    "3. Return a table with these results, sorted so that the values are clear and easy to interpret (for example, by class and then family size).\n",
    "\n",
    "4. Write a function called `last_names()` that extracts the last name of each passenger from the `Name` column, and returns the count for each last name (i.e., a pandas series with last name as index, and count as value). Does this result agree with that of the data table above? Share your findings in your app using `st.write`.\n",
    "\n",
    "5. Just like you did in Exercise 1, come up with a clear question that your results makes you curious about. Write this question in your app.py file above the call to your visualization function. Then, create a Plotly visualization in a function named `visualize_families()` that directly addresses your question. As in Exercise 1 you are free to choose the chart type that you think best communicates the findings."
   ]
  },
  {
   "cell_type": "code",
   "execution_count": null,
   "id": "828881a6",
   "metadata": {},
   "outputs": [],
   "source": [
    "def family_groups():\n",
    "    \"\"\"\n",
    "    Analyze family size, passenger class, and ticket fare relationships.\n",
    "    \"\"\"\n",
    "    df['family_size'] = df['SibSp'] + df['Parch'] + 1\n",
    "    \n",
    "    grouped = df.groupby(['family_size', 'Pclass']).agg(\n",
    "        n_passengers=('PassengerId', 'count'),\n",
    "        avg_fare=('Fare', 'mean'),\n",
    "        min_fare=('Fare', 'min'),\n",
    "        max_fare=('Fare', 'max')\n",
    "    ).reset_index()\n",
    "    \n",
    "    grouped['avg_fare'] = grouped['avg_fare'].round(2)\n",
    "    grouped['min_fare'] = grouped['min_fare'].round(2)\n",
    "    grouped['max_fare'] = grouped['max_fare'].round(2)\n",
    "    \n",
    "    grouped = grouped.sort_values(['Pclass', 'family_size'])\n",
    "    \n",
    "    return grouped"
   ]
  },
  {
   "cell_type": "code",
   "execution_count": 9,
   "id": "6fd452bb",
   "metadata": {},
   "outputs": [
    {
     "name": "stderr",
     "output_type": "stream",
     "text": [
      "2025-10-01 01:05:47.246 Thread 'MainThread': missing ScriptRunContext! This warning can be ignored when running in bare mode.\n",
      "2025-10-01 01:05:47.248 Thread 'MainThread': missing ScriptRunContext! This warning can be ignored when running in bare mode.\n",
      "2025-10-01 01:05:47.248 Thread 'MainThread': missing ScriptRunContext! This warning can be ignored when running in bare mode.\n"
     ]
    }
   ],
   "source": [
    "def last_names():\n",
    "    \"\"\"\n",
    "    Extract last names from the Name column and return counts for each last name.\n",
    "    \"\"\"\n",
    "    # Extract last names (everything before the comma)\n",
    "    df['last_name'] = df['Name'].str.split(',').str[0].str.strip()\n",
    "    \n",
    "    # Count occurrences of each last name\n",
    "    last_name_counts = df['last_name'].value_counts().reset_index()\n",
    "    last_name_counts.columns = ['last_name', 'count']\n",
    "    \n",
    "    return last_name_counts\n",
    "\n",
    "st.write(\"\"\"\n",
    "# Family Analysis of Titanic Survival\n",
    "\n",
    "**Research Question:** How did family size and passenger class interact to affect ticket fares, and were larger families concentrated in specific classes with distinct fare patterns?\n",
    "\"\"\")"
   ]
  },
  {
   "cell_type": "code",
   "execution_count": 11,
   "id": "2ea69703",
   "metadata": {},
   "outputs": [
    {
     "data": {
      "application/vnd.plotly.v1+json": {
       "config": {
        "plotlyServerURL": "https://plot.ly"
       },
       "data": [
        {
         "customdata": {
          "bdata": "AAAAAAAAAABxPQrXowKAQDMzMzMzsz1AcT0K16MCgEBI4XoUrkc6QAAAAAAAcGpAAAAAAAAAXkCamZmZmfFiQK5H4XoUZnBArkfhehRmcEAAAAAAAHBwQAAAAAAAcHBAAAAAAAAAAAAAAAAAAGBSQAAAAAAAACdAAAAAAACAQEAAAAAAAAAqQAAAAAAAYFJAAAAAAAAAJ0AAAAAAAEBQQAAAAAAAADdAAAAAAAAAN0AAAAAAAMAyQAAAAAAAwDJAAAAAAAAAAAAAAAAAAEBMQAAAAAAAABpAZmZmZmYmOEDsUbgehescQGZmZmZmJjhAMzMzMzOzL0AzMzMzM3M3QBSuR+F6FDVAcT0K16MwQUBmZmZmZuY7QLgehetR2ENArkfhehSuH0CkcD0K12M/QDMzMzMzc0dAMzMzMzNzR0AzMzMzM2NRQDMzMzMzY1FA",
          "dtype": "f8",
          "shape": "21, 2"
         },
         "hovertemplate": "Family Size=%{x}<br>Average Fare (£)=%{y}<br>Number of Passengers=%{marker.size}<br>min_fare=%{customdata[0]}<br>max_fare=%{customdata[1]}<br>Passenger Class=%{marker.color}<extra></extra>",
         "legendgroup": "",
         "marker": {
          "color": {
           "bdata": "AQEBAQEBAgICAgICAwMDAwMDAwMD",
           "dtype": "i1"
          },
          "coloraxis": "coloraxis",
          "size": {
           "bdata": "bQBGABgABwACAAQAaAAiAB8ADQABAAEARAE5AC8ACQAMABEADAAGAAcA",
           "dtype": "i2"
          },
          "sizemode": "area",
          "sizeref": 0.2025,
          "symbol": "circle"
         },
         "mode": "markers",
         "name": "",
         "orientation": "v",
         "showlegend": false,
         "type": "scatter",
         "x": {
          "bdata": "AQIDBAUGAQIDBAUGAQIDBAUGBwgL",
          "dtype": "i1"
         },
         "xaxis": "x",
         "y": {
          "bdata": "9ihcj8LVT0BmZmZmZvZWQOxRuB6F61dAcT0K16OwYECuR+F6FGZwQAAAAAAAcHBApHA9CtcjLECuR+F6FK44QHE9CtejsD9ACtejcD1KQkAAAAAAAAA3QAAAAAAAwDJACtejcD2KIkBSuB6F69EqQOF6FK5HYTBAmpmZmZkZNEC4HoXrUfg6QPYoXI/CNUBAH4XrUbhePUAzMzMzM3NHQDMzMzMzY1FA",
          "dtype": "f8"
         },
         "yaxis": "y"
        },
        {
         "hoverinfo": "skip",
         "line": {
          "dash": "dot",
          "width": 1
         },
         "mode": "lines",
         "showlegend": false,
         "type": "scatter",
         "x": {
          "bdata": "AQIDBAUG",
          "dtype": "i1"
         },
         "y": {
          "bdata": "9ihcj8LVT0BmZmZmZvZWQOxRuB6F61dAcT0K16OwYECuR+F6FGZwQAAAAAAAcHBA",
          "dtype": "f8"
         }
        },
        {
         "hoverinfo": "skip",
         "line": {
          "dash": "dot",
          "width": 1
         },
         "mode": "lines",
         "showlegend": false,
         "type": "scatter",
         "x": {
          "bdata": "AQIDBAUG",
          "dtype": "i1"
         },
         "y": {
          "bdata": "pHA9CtcjLECuR+F6FK44QHE9CtejsD9ACtejcD1KQkAAAAAAAAA3QAAAAAAAwDJA",
          "dtype": "f8"
         }
        },
        {
         "hoverinfo": "skip",
         "line": {
          "dash": "dot",
          "width": 1
         },
         "mode": "lines",
         "showlegend": false,
         "type": "scatter",
         "x": {
          "bdata": "AQIDBAUGBwgL",
          "dtype": "i1"
         },
         "y": {
          "bdata": "CtejcD2KIkBSuB6F69EqQOF6FK5HYTBAmpmZmZkZNEC4HoXrUfg6QPYoXI/CNUBAH4XrUbhePUAzMzMzM3NHQDMzMzMzY1FA",
          "dtype": "f8"
         }
        }
       ],
       "layout": {
        "coloraxis": {
         "colorbar": {
          "title": {
           "text": "Passenger Class"
          }
         },
         "colorscale": [
          [
           0,
           "#000011"
          ],
          [
           0.1111111111111111,
           "#000012"
          ],
          [
           0.2222222222222222,
           "#000013"
          ],
          [
           0.3333333333333333,
           "#000014"
          ],
          [
           0.4444444444444444,
           "#000015"
          ],
          [
           0.5555555555555556,
           "#000016"
          ],
          [
           0.6666666666666666,
           "#000017"
          ],
          [
           0.7777777777777778,
           "#000018"
          ],
          [
           0.8888888888888888,
           "#000019"
          ],
          [
           1,
           "#000020"
          ]
         ]
        },
        "height": 500,
        "legend": {
         "itemsizing": "constant",
         "tracegroupgap": 0
        },
        "showlegend": true,
        "template": {
         "data": {
          "candlestick": [
           {
            "decreasing": {
             "line": {
              "color": "#000033"
             }
            },
            "increasing": {
             "line": {
              "color": "#000032"
             }
            },
            "type": "candlestick"
           }
          ],
          "contour": [
           {
            "colorscale": [
             [
              0,
              "#000011"
             ],
             [
              0.1111111111111111,
              "#000012"
             ],
             [
              0.2222222222222222,
              "#000013"
             ],
             [
              0.3333333333333333,
              "#000014"
             ],
             [
              0.4444444444444444,
              "#000015"
             ],
             [
              0.5555555555555556,
              "#000016"
             ],
             [
              0.6666666666666666,
              "#000017"
             ],
             [
              0.7777777777777778,
              "#000018"
             ],
             [
              0.8888888888888888,
              "#000019"
             ],
             [
              1,
              "#000020"
             ]
            ],
            "type": "contour"
           }
          ],
          "contourcarpet": [
           {
            "colorscale": [
             [
              0,
              "#000011"
             ],
             [
              0.1111111111111111,
              "#000012"
             ],
             [
              0.2222222222222222,
              "#000013"
             ],
             [
              0.3333333333333333,
              "#000014"
             ],
             [
              0.4444444444444444,
              "#000015"
             ],
             [
              0.5555555555555556,
              "#000016"
             ],
             [
              0.6666666666666666,
              "#000017"
             ],
             [
              0.7777777777777778,
              "#000018"
             ],
             [
              0.8888888888888888,
              "#000019"
             ],
             [
              1,
              "#000020"
             ]
            ],
            "type": "contourcarpet"
           }
          ],
          "heatmap": [
           {
            "colorscale": [
             [
              0,
              "#000011"
             ],
             [
              0.1111111111111111,
              "#000012"
             ],
             [
              0.2222222222222222,
              "#000013"
             ],
             [
              0.3333333333333333,
              "#000014"
             ],
             [
              0.4444444444444444,
              "#000015"
             ],
             [
              0.5555555555555556,
              "#000016"
             ],
             [
              0.6666666666666666,
              "#000017"
             ],
             [
              0.7777777777777778,
              "#000018"
             ],
             [
              0.8888888888888888,
              "#000019"
             ],
             [
              1,
              "#000020"
             ]
            ],
            "type": "heatmap"
           }
          ],
          "histogram2d": [
           {
            "colorscale": [
             [
              0,
              "#000011"
             ],
             [
              0.1111111111111111,
              "#000012"
             ],
             [
              0.2222222222222222,
              "#000013"
             ],
             [
              0.3333333333333333,
              "#000014"
             ],
             [
              0.4444444444444444,
              "#000015"
             ],
             [
              0.5555555555555556,
              "#000016"
             ],
             [
              0.6666666666666666,
              "#000017"
             ],
             [
              0.7777777777777778,
              "#000018"
             ],
             [
              0.8888888888888888,
              "#000019"
             ],
             [
              1,
              "#000020"
             ]
            ],
            "type": "histogram2d"
           }
          ],
          "icicle": [
           {
            "textfont": {
             "color": "white"
            },
            "type": "icicle"
           }
          ],
          "sankey": [
           {
            "textfont": {
             "color": "#000036"
            },
            "type": "sankey"
           }
          ],
          "scatter": [
           {
            "marker": {
             "line": {
              "width": 0
             }
            },
            "type": "scatter"
           }
          ],
          "table": [
           {
            "cells": {
             "fill": {
              "color": "#000038"
             },
             "font": {
              "color": "#000037"
             },
             "line": {
              "color": "#000039"
             }
            },
            "header": {
             "fill": {
              "color": "#000040"
             },
             "font": {
              "color": "#000036"
             },
             "line": {
              "color": "#000039"
             }
            },
            "type": "table"
           }
          ],
          "waterfall": [
           {
            "connector": {
             "line": {
              "color": "#000036",
              "width": 2
             }
            },
            "decreasing": {
             "marker": {
              "color": "#000033"
             }
            },
            "increasing": {
             "marker": {
              "color": "#000032"
             }
            },
            "totals": {
             "marker": {
              "color": "#000034"
             }
            },
            "type": "waterfall"
           }
          ]
         },
         "layout": {
          "coloraxis": {
           "colorscale": [
            [
             0,
             "#000011"
            ],
            [
             0.1111111111111111,
             "#000012"
            ],
            [
             0.2222222222222222,
             "#000013"
            ],
            [
             0.3333333333333333,
             "#000014"
            ],
            [
             0.4444444444444444,
             "#000015"
            ],
            [
             0.5555555555555556,
             "#000016"
            ],
            [
             0.6666666666666666,
             "#000017"
            ],
            [
             0.7777777777777778,
             "#000018"
            ],
            [
             0.8888888888888888,
             "#000019"
            ],
            [
             1,
             "#000020"
            ]
           ]
          },
          "colorscale": {
           "diverging": [
            [
             0,
             "#000021"
            ],
            [
             0.1,
             "#000022"
            ],
            [
             0.2,
             "#000023"
            ],
            [
             0.3,
             "#000024"
            ],
            [
             0.4,
             "#000025"
            ],
            [
             0.5,
             "#000026"
            ],
            [
             0.6,
             "#000027"
            ],
            [
             0.7,
             "#000028"
            ],
            [
             0.8,
             "#000029"
            ],
            [
             0.9,
             "#000030"
            ],
            [
             1,
             "#000031"
            ]
           ],
           "sequential": [
            [
             0,
             "#000011"
            ],
            [
             0.1111111111111111,
             "#000012"
            ],
            [
             0.2222222222222222,
             "#000013"
            ],
            [
             0.3333333333333333,
             "#000014"
            ],
            [
             0.4444444444444444,
             "#000015"
            ],
            [
             0.5555555555555556,
             "#000016"
            ],
            [
             0.6666666666666666,
             "#000017"
            ],
            [
             0.7777777777777778,
             "#000018"
            ],
            [
             0.8888888888888888,
             "#000019"
            ],
            [
             1,
             "#000020"
            ]
           ],
           "sequentialminus": [
            [
             0,
             "#000011"
            ],
            [
             0.1111111111111111,
             "#000012"
            ],
            [
             0.2222222222222222,
             "#000013"
            ],
            [
             0.3333333333333333,
             "#000014"
            ],
            [
             0.4444444444444444,
             "#000015"
            ],
            [
             0.5555555555555556,
             "#000016"
            ],
            [
             0.6666666666666666,
             "#000017"
            ],
            [
             0.7777777777777778,
             "#000018"
            ],
            [
             0.8888888888888888,
             "#000019"
            ],
            [
             1,
             "#000020"
            ]
           ]
          },
          "colorway": [
           "#000001",
           "#000002",
           "#000003",
           "#000004",
           "#000005",
           "#000006",
           "#000007",
           "#000008",
           "#000009",
           "#000010"
          ]
         }
        },
        "title": {
         "text": "Family Size vs Average Ticket Fare by Passenger Class"
        },
        "xaxis": {
         "anchor": "y",
         "domain": [
          0,
          1
         ],
         "dtick": 1,
         "title": {
          "text": "Family Size"
         }
        },
        "yaxis": {
         "anchor": "x",
         "domain": [
          0,
          1
         ],
         "title": {
          "text": "Average Fare (£)"
         }
        }
       }
      }
     },
     "metadata": {},
     "output_type": "display_data"
    }
   ],
   "source": [
    "def visualize_families():\n",
    "    \"\"\"\n",
    "    Create a visualization exploring the relationship between family size, \n",
    "    passenger class, and ticket fares.\n",
    "    \"\"\"\n",
    "    data = family_groups()\n",
    "    \n",
    "    # Create a bubble chart showing family size vs fare by class\n",
    "    fig = px.scatter(\n",
    "        data,\n",
    "        x='family_size',\n",
    "        y='avg_fare',\n",
    "        size='n_passengers',\n",
    "        color='Pclass',\n",
    "        title='Family Size vs Average Ticket Fare by Passenger Class',\n",
    "        labels={\n",
    "            'family_size': 'Family Size',\n",
    "            'avg_fare': 'Average Fare (£)',\n",
    "            'Pclass': 'Passenger Class',\n",
    "            'n_passengers': 'Number of Passengers'\n",
    "        },\n",
    "        category_orders={'Pclass': [1, 2, 3]},\n",
    "        color_discrete_map={\n",
    "            1: '#1f77b4',  # Blue for 1st class\n",
    "            2: '#ff7f0e',  # Orange for 2nd class  \n",
    "            3: '#2ca02c'   # Green for 3rd class\n",
    "        },\n",
    "        size_max=40,\n",
    "        hover_data=['min_fare', 'max_fare']\n",
    "    )\n",
    "    \n",
    "    # Customize layout\n",
    "    fig.update_layout(\n",
    "        height=500,\n",
    "        showlegend=True,\n",
    "        xaxis=dict(dtick=1),  # Ensure integer ticks for family size\n",
    "        yaxis=dict(title='Average Fare (£)')\n",
    "    )\n",
    "    \n",
    "    # Add trend lines for each class\n",
    "    for pclass in [1, 2, 3]:\n",
    "        class_data = data[data['Pclass'] == pclass]\n",
    "        if len(class_data) > 1:\n",
    "            fig.add_trace(\n",
    "                go.Scatter(\n",
    "                    x=class_data['family_size'],\n",
    "                    y=class_data['avg_fare'],\n",
    "                    mode='lines',\n",
    "                    line=dict(dash='dot', width=1),\n",
    "                    showlegend=False,\n",
    "                    hoverinfo='skip'\n",
    "                )\n",
    "            )\n",
    "    \n",
    "    return fig\n",
    "visualize_families()"
   ]
  },
  {
   "cell_type": "code",
   "execution_count": 12,
   "id": "05f92e78",
   "metadata": {},
   "outputs": [],
   "source": [
    "def visualize_fare_ranges():\n",
    "    \"\"\"\n",
    "    Create a visualization showing fare ranges for different family sizes and classes.\n",
    "    \"\"\"\n",
    "    data = family_groups()\n",
    "    \n",
    "    # Create a bar chart showing fare ranges\n",
    "    fig = px.bar(\n",
    "        data,\n",
    "        x='family_size',\n",
    "        y='avg_fare',\n",
    "        color='Pclass',\n",
    "        facet_col='Pclass',\n",
    "        title='Average Ticket Fare by Family Size and Passenger Class',\n",
    "        labels={\n",
    "            'family_size': 'Family Size',\n",
    "            'avg_fare': 'Average Fare (£)',\n",
    "            'Pclass': 'Passenger Class'\n",
    "        },\n",
    "        category_orders={'Pclass': [1, 2, 3]},\n",
    "        color_discrete_map={\n",
    "            1: '#1f77b4',\n",
    "            2: '#ff7f0e', \n",
    "            3: '#2ca02c'\n",
    "        }\n",
    "    )\n",
    "    \n",
    "    fig.update_layout(\n",
    "        height=400,\n",
    "        showlegend=False\n",
    "    )\n",
    "    \n",
    "    fig.for_each_annotation(lambda a: a.update(text=f\"Class {a.text.split('=')[1]}\"))\n",
    "    \n",
    "    return fig"
   ]
  },
  {
   "cell_type": "code",
   "execution_count": 13,
   "id": "e4ae6c79",
   "metadata": {},
   "outputs": [
    {
     "name": "stderr",
     "output_type": "stream",
     "text": [
      "2025-10-01 01:12:43.133 Thread 'MainThread': missing ScriptRunContext! This warning can be ignored when running in bare mode.\n",
      "2025-10-01 01:12:43.133 Thread 'MainThread': missing ScriptRunContext! This warning can be ignored when running in bare mode.\n",
      "2025-10-01 01:12:43.134 Thread 'MainThread': missing ScriptRunContext! This warning can be ignored when running in bare mode.\n",
      "2025-10-01 01:12:43.170 Thread 'MainThread': missing ScriptRunContext! This warning can be ignored when running in bare mode.\n",
      "2025-10-01 01:12:43.171 Thread 'MainThread': missing ScriptRunContext! This warning can be ignored when running in bare mode.\n",
      "2025-10-01 01:12:43.172 Thread 'MainThread': missing ScriptRunContext! This warning can be ignored when running in bare mode.\n",
      "2025-10-01 01:12:43.172 Thread 'MainThread': missing ScriptRunContext! This warning can be ignored when running in bare mode.\n",
      "2025-10-01 01:12:43.173 Thread 'MainThread': missing ScriptRunContext! This warning can be ignored when running in bare mode.\n",
      "2025-10-01 01:12:43.173 Thread 'MainThread': missing ScriptRunContext! This warning can be ignored when running in bare mode.\n",
      "2025-10-01 01:12:43.174 Thread 'MainThread': missing ScriptRunContext! This warning can be ignored when running in bare mode.\n",
      "2025-10-01 01:12:43.174 Thread 'MainThread': missing ScriptRunContext! This warning can be ignored when running in bare mode.\n",
      "2025-10-01 01:12:43.216 Thread 'MainThread': missing ScriptRunContext! This warning can be ignored when running in bare mode.\n",
      "2025-10-01 01:12:43.217 Thread 'MainThread': missing ScriptRunContext! This warning can be ignored when running in bare mode.\n",
      "2025-10-01 01:12:43.217 Thread 'MainThread': missing ScriptRunContext! This warning can be ignored when running in bare mode.\n",
      "2025-10-01 01:12:43.218 Thread 'MainThread': missing ScriptRunContext! This warning can be ignored when running in bare mode.\n",
      "2025-10-01 01:12:43.218 Thread 'MainThread': missing ScriptRunContext! This warning can be ignored when running in bare mode.\n",
      "2025-10-01 01:12:43.219 Thread 'MainThread': missing ScriptRunContext! This warning can be ignored when running in bare mode.\n",
      "2025-10-01 01:12:43.220 Thread 'MainThread': missing ScriptRunContext! This warning can be ignored when running in bare mode.\n",
      "2025-10-01 01:12:43.220 Thread 'MainThread': missing ScriptRunContext! This warning can be ignored when running in bare mode.\n",
      "2025-10-01 01:12:43.227 Thread 'MainThread': missing ScriptRunContext! This warning can be ignored when running in bare mode.\n",
      "2025-10-01 01:12:43.228 Thread 'MainThread': missing ScriptRunContext! This warning can be ignored when running in bare mode.\n",
      "2025-10-01 01:12:43.228 Thread 'MainThread': missing ScriptRunContext! This warning can be ignored when running in bare mode.\n",
      "2025-10-01 01:12:43.229 Thread 'MainThread': missing ScriptRunContext! This warning can be ignored when running in bare mode.\n",
      "2025-10-01 01:12:43.231 Thread 'MainThread': missing ScriptRunContext! This warning can be ignored when running in bare mode.\n",
      "2025-10-01 01:12:43.231 Thread 'MainThread': missing ScriptRunContext! This warning can be ignored when running in bare mode.\n",
      "2025-10-01 01:12:43.235 Thread 'MainThread': missing ScriptRunContext! This warning can be ignored when running in bare mode.\n",
      "2025-10-01 01:12:43.235 Thread 'MainThread': missing ScriptRunContext! This warning can be ignored when running in bare mode.\n",
      "2025-10-01 01:12:43.236 Thread 'MainThread': missing ScriptRunContext! This warning can be ignored when running in bare mode.\n",
      "2025-10-01 01:12:43.237 Thread 'MainThread': missing ScriptRunContext! This warning can be ignored when running in bare mode.\n",
      "2025-10-01 01:12:43.238 Thread 'MainThread': missing ScriptRunContext! This warning can be ignored when running in bare mode.\n",
      "2025-10-01 01:12:43.238 Thread 'MainThread': missing ScriptRunContext! This warning can be ignored when running in bare mode.\n",
      "2025-10-01 01:12:43.239 Thread 'MainThread': missing ScriptRunContext! This warning can be ignored when running in bare mode.\n",
      "2025-10-01 01:12:43.239 Thread 'MainThread': missing ScriptRunContext! This warning can be ignored when running in bare mode.\n",
      "2025-10-01 01:12:43.239 Thread 'MainThread': missing ScriptRunContext! This warning can be ignored when running in bare mode.\n",
      "2025-10-01 01:12:43.241 Thread 'MainThread': missing ScriptRunContext! This warning can be ignored when running in bare mode.\n",
      "2025-10-01 01:12:43.242 Thread 'MainThread': missing ScriptRunContext! This warning can be ignored when running in bare mode.\n",
      "2025-10-01 01:12:43.242 Thread 'MainThread': missing ScriptRunContext! This warning can be ignored when running in bare mode.\n",
      "2025-10-01 01:12:43.243 Thread 'MainThread': missing ScriptRunContext! This warning can be ignored when running in bare mode.\n",
      "2025-10-01 01:12:43.244 Thread 'MainThread': missing ScriptRunContext! This warning can be ignored when running in bare mode.\n",
      "2025-10-01 01:12:43.244 Thread 'MainThread': missing ScriptRunContext! This warning can be ignored when running in bare mode.\n",
      "2025-10-01 01:12:43.245 Thread 'MainThread': missing ScriptRunContext! This warning can be ignored when running in bare mode.\n",
      "2025-10-01 01:12:43.245 Thread 'MainThread': missing ScriptRunContext! This warning can be ignored when running in bare mode.\n",
      "2025-10-01 01:12:43.245 Thread 'MainThread': missing ScriptRunContext! This warning can be ignored when running in bare mode.\n",
      "2025-10-01 01:12:43.246 Thread 'MainThread': missing ScriptRunContext! This warning can be ignored when running in bare mode.\n",
      "2025-10-01 01:12:43.247 Thread 'MainThread': missing ScriptRunContext! This warning can be ignored when running in bare mode.\n",
      "2025-10-01 01:12:43.247 Thread 'MainThread': missing ScriptRunContext! This warning can be ignored when running in bare mode.\n",
      "2025-10-01 01:12:43.248 Thread 'MainThread': missing ScriptRunContext! This warning can be ignored when running in bare mode.\n",
      "2025-10-01 01:12:43.249 Thread 'MainThread': missing ScriptRunContext! This warning can be ignored when running in bare mode.\n",
      "2025-10-01 01:12:43.249 Thread 'MainThread': missing ScriptRunContext! This warning can be ignored when running in bare mode.\n",
      "2025-10-01 01:12:43.279 Thread 'MainThread': missing ScriptRunContext! This warning can be ignored when running in bare mode.\n",
      "2025-10-01 01:12:43.280 Thread 'MainThread': missing ScriptRunContext! This warning can be ignored when running in bare mode.\n",
      "2025-10-01 01:12:43.281 Thread 'MainThread': missing ScriptRunContext! This warning can be ignored when running in bare mode.\n",
      "2025-10-01 01:12:43.281 Thread 'MainThread': missing ScriptRunContext! This warning can be ignored when running in bare mode.\n",
      "2025-10-01 01:12:43.281 Thread 'MainThread': missing ScriptRunContext! This warning can be ignored when running in bare mode.\n"
     ]
    },
    {
     "data": {
      "text/plain": [
       "DeltaGenerator()"
      ]
     },
     "execution_count": 13,
     "metadata": {},
     "output_type": "execute_result"
    }
   ],
   "source": [
    "# Load Titanic datase\n",
    "st.write(\n",
    "'''\n",
    "# Titanic Visualization 1 - Family Analysis\n",
    "\n",
    "**Research Question:** How did family size and passenger class interact to affect ticket fares, and were larger families concentrated in specific classes with distinct fare patterns?\n",
    "\n",
    "'''\n",
    ")\n",
    "\n",
    "# Generate and display the family visualization\n",
    "fig1 = visualize_families()\n",
    "st.plotly_chart(fig1, use_container_width=True)\n",
    "\n",
    "st.write(\n",
    "'''\n",
    "# Titanic Visualization 2 - Fare Ranges\n",
    "'''\n",
    ")\n",
    "\n",
    "# Generate and display the fare range visualization\n",
    "fig2 = visualize_fare_ranges()\n",
    "st.plotly_chart(fig2, use_container_width=True)\n",
    "\n",
    "# Show the family groups data\n",
    "st.write(\"### Family Groups Data\")\n",
    "family_data = family_groups()\n",
    "st.dataframe(family_data)\n",
    "\n",
    "# Show last name analysis\n",
    "st.write(\"### Last Name Analysis\")\n",
    "last_name_data = last_names()\n",
    "st.write(\"Top 20 Most Common Last Names:\")\n",
    "st.dataframe(last_name_data.head(20))\n",
    "\n",
    "# Compare last name counts with family size analysis\n",
    "st.write(\"### Comparison: Last Name Counts vs Family Size Analysis\")\n",
    "\n",
    "# Calculate average family size by class\n",
    "avg_family_by_class = df.groupby('Pclass')['family_size'].mean().round(2)\n",
    "\n",
    "st.write(\"**Average Family Size by Class:**\")\n",
    "st.write(avg_family_by_class)\n",
    "\n",
    "st.write(\"**Key Findings:**\")\n",
    "st.write(\"\"\"\n",
    "- **Last Name Distribution**: The most common last names (Sage, Andersson, Asplund, etc.) appear 5-11 times, suggesting large family groups\n",
    "- **Family Size Patterns**: Third class had the largest average family sizes, while first class had smaller families\n",
    "- **Fare Structure**: First class families paid significantly higher fares regardless of family size\n",
    "- **Large Families**: Families larger than 4 were almost exclusively in third class with lower average fares\n",
    "- **Wealth Disparity**: The fare range within first class was much wider than other classes, indicating greater wealth variation among wealthy passengers\n",
    "\"\"\")\n",
    "\n",
    "st.write(\n",
    "'''\n",
    "# Titanic Visualization Bonus - Large Families Analysis\n",
    "'''\n",
    ")\n",
    "\n",
    "# Bonus visualization focusing on large families\n",
    "def visualize_large_families():\n",
    "    \"\"\"\n",
    "    Focus on families with 4+ members to understand large family patterns.\n",
    "    \"\"\"\n",
    "    data = family_groups()\n",
    "    large_families = data[data['family_size'] >= 4]\n",
    "    \n",
    "    fig = px.bar(\n",
    "        large_families,\n",
    "        x='family_size',\n",
    "        y='n_passengers',\n",
    "        color='Pclass',\n",
    "        title='Distribution of Large Families (4+ Members) by Passenger Class',\n",
    "        labels={\n",
    "            'family_size': 'Family Size',\n",
    "            'n_passengers': 'Number of Passengers',\n",
    "            'Pclass': 'Passenger Class'\n",
    "        },\n",
    "        category_orders={'Pclass': [1, 2, 3]},\n",
    "        color_discrete_map={\n",
    "            1: '#1f77b4',\n",
    "            2: '#ff7f0e',\n",
    "            3: '#2ca02c'\n",
    "        }\n",
    "    )\n",
    "    \n",
    "    fig.update_layout(height=400)\n",
    "    return fig\n",
    "\n",
    "fig3 = visualize_large_families()\n",
    "st.plotly_chart(fig3, use_container_width=True)"
   ]
  },
  {
   "cell_type": "markdown",
   "id": "fd60f1c3",
   "metadata": {},
   "source": [
    "## Bonus Question\n",
    "\n",
    "Add a new column, `older_passenger`, to the Titanic dataset that indicates whether each passenger’s age is above the median age for *their* passenger class. So, suppose row $x$ is in passenger class 2. Then, a value of `True` at row $x$ would indicate that passenger older than 50% of class 2 passengers, and `False` would indicate that they younger.\n",
    "\n",
    "- You should use pandas functions to accomplish this.\n",
    "- The new column should contain Boolean values (True if the age is above the median, False if less than or equal to).\n",
    "- Return the updated table in the function `determine_age_division()`\n",
    "\n",
    "Once you’ve created this column, consider how this age division relates to your analysis above. Try to visualize this analysis in Plotly using the function name `visualize_age_division()`."
   ]
  }
 ],
 "metadata": {
  "kernelspec": {
   "display_name": "base",
   "language": "python",
   "name": "python3"
  },
  "language_info": {
   "codemirror_mode": {
    "name": "ipython",
    "version": 3
   },
   "file_extension": ".py",
   "mimetype": "text/x-python",
   "name": "python",
   "nbconvert_exporter": "python",
   "pygments_lexer": "ipython3",
   "version": "3.11.13"
  }
 },
 "nbformat": 4,
 "nbformat_minor": 5
}
