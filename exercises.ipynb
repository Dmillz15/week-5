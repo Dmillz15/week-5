{
 "cells": [
  {
   "cell_type": "markdown",
   "id": "e3aad6c5",
   "metadata": {},
   "source": [
    "<font color='darkorange'> Unless otherwise noted, **this notebook will not be reviewed or autograded.**</font> You are welcome to use it for scratchwork, but **only the files listed in the exercises will be checked.**\n",
    "\n",
    "---\n",
    "\n",
    "# Exercises\n",
    "\n",
    "For these exercises, add your functions to the *apputil\\.py* file and *app\\.py* file as instructed. *These exercises use the same [Titanic dataset](https://www.kaggle.com/competitions/titanic/data) as the lab.*\n",
    "\n",
    "\n",
    "## Exercise 1: Survival Patterns\n"
   ]
  },
  {
   "cell_type": "markdown",
   "id": "5833bb5f",
   "metadata": {},
   "source": [
    "For this exercise you will analyze survival patterns on the Titanic by looking at passenger class, sex, and age group. Name the function survival_demographics().\n",
    "\n",
    "1. Create a new column in the Titanic dataset that classifies passengers into age categories (i.e., a pandas category series). The categories should be:\n",
    "\n",
    "        Child (up to 12)\n",
    "        Teen (13–19)\n",
    "        Adult (20–59)\n",
    "        Senior (60+)\n",
    "Hint: The pd.cut() function might come in handy here.\n",
    "\n",
    "2. Group the passengers by class, sex, and age group.\n",
    "\n",
    "3. For each group, calculate:\n",
    "\n",
    "        The total number of passengers, n_passengers\n",
    "        The number of survivors, n_survivors\n",
    "        The survival rate, survival_rate\n",
    "4. Return a table that includes the results for all combinations of class, sex, and age group.\n",
    "\n",
    "5. Order the results so they are easy to interpret.\n",
    "\n",
    "6. Come up with a clear question that your results table makes you curious about (e.g., “Did women in first class have a higher survival rate than men in other classes?”). Write this question in your app.py file above the call to your visualization function, using st.write(\"Your Question Here\").\n",
    "\n",
    "7. Create a Plotly visualization in a function named visualize_demographic() that directly addresses your question by returning a Plotly figure (e.g., fig = px. ...). You are free to choose the chart type that you think best communicates the findings. Be creative — try different approaches, compare them, and ensure that your chart clearly answers the question you posed."
   ]
  },
  {
   "cell_type": "code",
   "execution_count": null,
   "id": "8557c676",
   "metadata": {},
   "outputs": [
    {
     "name": "stderr",
     "output_type": "stream",
     "text": [
      "/tmp/ipykernel_1028/4260034809.py:20: FutureWarning: The default of observed=False is deprecated and will be changed to True in a future version of pandas. Pass observed=False to retain current behavior or observed=True to adopt the future default and silence this warning.\n",
      "  grouped = df.groupby(['Pclass', 'Sex', 'age_group']).agg(\n"
     ]
    },
    {
     "data": {
      "application/vnd.plotly.v1+json": {
       "config": {
        "plotlyServerURL": "https://plot.ly"
       },
       "data": [
        {
         "alignmentgroup": "True",
         "hovertemplate": "Gender=female<br>Age Group=Child<br>Passenger Class=%{x}<br>Survival Rate=%{y}<extra></extra>",
         "legendgroup": "female",
         "marker": {
          "color": "#FF6B9C",
          "pattern": {
           "shape": ""
          }
         },
         "name": "female",
         "offsetgroup": "female",
         "orientation": "v",
         "showlegend": true,
         "textposition": "auto",
         "type": "bar",
         "x": {
          "bdata": "AQID",
          "dtype": "i1"
         },
         "xaxis": "x3",
         "y": {
          "bdata": "AAAAAAAAAAAAAAAAAADwP2Q730+Nl94/",
          "dtype": "f8"
         },
         "yaxis": "y3"
        },
        {
         "alignmentgroup": "True",
         "hovertemplate": "Gender=female<br>Age Group=Teen<br>Passenger Class=%{x}<br>Survival Rate=%{y}<extra></extra>",
         "legendgroup": "female",
         "marker": {
          "color": "#FF6B9C",
          "pattern": {
           "shape": ""
          }
         },
         "name": "female",
         "offsetgroup": "female",
         "orientation": "v",
         "showlegend": false,
         "textposition": "auto",
         "type": "bar",
         "x": {
          "bdata": "AQID",
          "dtype": "i1"
         },
         "xaxis": "x4",
         "y": {
          "bdata": "AAAAAAAA8D8AAAAAAADwP7bz/dR46eI/",
          "dtype": "f8"
         },
         "yaxis": "y4"
        },
        {
         "alignmentgroup": "True",
         "hovertemplate": "Gender=female<br>Age Group=Adult<br>Passenger Class=%{x}<br>Survival Rate=%{y}<extra></extra>",
         "legendgroup": "female",
         "marker": {
          "color": "#FF6B9C",
          "pattern": {
           "shape": ""
          }
         },
         "name": "female",
         "offsetgroup": "female",
         "orientation": "v",
         "showlegend": false,
         "textposition": "auto",
         "type": "bar",
         "x": {
          "bdata": "AQID",
          "dtype": "i1"
         },
         "xaxis": "x",
         "y": {
          "bdata": "30+Nl24S7z9OYhBYObTsP/T91HjpJtk/",
          "dtype": "f8"
         },
         "yaxis": "y"
        },
        {
         "alignmentgroup": "True",
         "hovertemplate": "Gender=female<br>Age Group=Senior<br>Passenger Class=%{x}<br>Survival Rate=%{y}<extra></extra>",
         "legendgroup": "female",
         "marker": {
          "color": "#FF6B9C",
          "pattern": {
           "shape": ""
          }
         },
         "name": "female",
         "offsetgroup": "female",
         "orientation": "v",
         "showlegend": false,
         "textposition": "auto",
         "type": "bar",
         "x": {
          "bdata": "AQID",
          "dtype": "i1"
         },
         "xaxis": "x2",
         "y": {
          "bdata": "AAAAAAAA8D8AAAAAAAD4/wAAAAAAAPA/",
          "dtype": "f8"
         },
         "yaxis": "y2"
        },
        {
         "alignmentgroup": "True",
         "hovertemplate": "Gender=male<br>Age Group=Child<br>Passenger Class=%{x}<br>Survival Rate=%{y}<extra></extra>",
         "legendgroup": "male",
         "marker": {
          "color": "#4A90E2",
          "pattern": {
           "shape": ""
          }
         },
         "name": "male",
         "offsetgroup": "male",
         "orientation": "v",
         "showlegend": true,
         "textposition": "auto",
         "type": "bar",
         "x": {
          "bdata": "AQID",
          "dtype": "i1"
         },
         "xaxis": "x3",
         "y": {
          "bdata": "AAAAAAAA8D8AAAAAAADwPwrXo3A9Ctc/",
          "dtype": "f8"
         },
         "yaxis": "y3"
        },
        {
         "alignmentgroup": "True",
         "hovertemplate": "Gender=male<br>Age Group=Teen<br>Passenger Class=%{x}<br>Survival Rate=%{y}<extra></extra>",
         "legendgroup": "male",
         "marker": {
          "color": "#4A90E2",
          "pattern": {
           "shape": ""
          }
         },
         "name": "male",
         "offsetgroup": "male",
         "orientation": "v",
         "showlegend": false,
         "textposition": "auto",
         "type": "bar",
         "x": {
          "bdata": "AQID",
          "dtype": "i1"
         },
         "xaxis": "x4",
         "y": {
          "bdata": "AAAAAAAA0D+amZmZmZm5P9NNYhBYObQ/",
          "dtype": "f8"
         },
         "yaxis": "y4"
        },
        {
         "alignmentgroup": "True",
         "hovertemplate": "Gender=male<br>Age Group=Adult<br>Passenger Class=%{x}<br>Survival Rate=%{y}<extra></extra>",
         "legendgroup": "male",
         "marker": {
          "color": "#4A90E2",
          "pattern": {
           "shape": ""
          }
         },
         "name": "male",
         "offsetgroup": "male",
         "orientation": "v",
         "showlegend": false,
         "textposition": "auto",
         "type": "bar",
         "x": {
          "bdata": "AQID",
          "dtype": "i1"
         },
         "xaxis": "x",
         "y": {
          "bdata": "MzMzMzMz2z+JQWDl0CKrP+xRuB6F68E/",
          "dtype": "f8"
         },
         "yaxis": "y"
        },
        {
         "alignmentgroup": "True",
         "hovertemplate": "Gender=male<br>Age Group=Senior<br>Passenger Class=%{x}<br>Survival Rate=%{y}<extra></extra>",
         "legendgroup": "male",
         "marker": {
          "color": "#4A90E2",
          "pattern": {
           "shape": ""
          }
         },
         "name": "male",
         "offsetgroup": "male",
         "orientation": "v",
         "showlegend": false,
         "textposition": "auto",
         "type": "bar",
         "x": {
          "bdata": "AQID",
          "dtype": "i1"
         },
         "xaxis": "x2",
         "y": {
          "bdata": "5/up8dJNwj8AAAAAAADQPwAAAAAAAAAA",
          "dtype": "f8"
         },
         "yaxis": "y2"
        }
       ],
       "layout": {
        "annotations": [
         {
          "showarrow": false,
          "text": "Adult",
          "x": 0.245,
          "xanchor": "center",
          "xref": "paper",
          "y": 0.46499999999999997,
          "yanchor": "bottom",
          "yref": "paper"
         },
         {
          "showarrow": false,
          "text": "Senior",
          "x": 0.755,
          "xanchor": "center",
          "xref": "paper",
          "y": 0.46499999999999997,
          "yanchor": "bottom",
          "yref": "paper"
         },
         {
          "showarrow": false,
          "text": "Child",
          "x": 0.245,
          "xanchor": "center",
          "xref": "paper",
          "y": 0.9999999999999999,
          "yanchor": "bottom",
          "yref": "paper"
         },
         {
          "showarrow": false,
          "text": "Teen",
          "x": 0.755,
          "xanchor": "center",
          "xref": "paper",
          "y": 0.9999999999999999,
          "yanchor": "bottom",
          "yref": "paper"
         },
         {
          "font": {
           "color": "black",
           "size": 10
          },
          "showarrow": false,
          "text": "0%",
          "x": 0.8,
          "xref": "x",
          "y": 0.05,
          "yref": "y"
         },
         {
          "font": {
           "color": "black",
           "size": 10
          },
          "showarrow": false,
          "text": "100%",
          "x": 0.8,
          "xref": "x2",
          "y": 1.05,
          "yref": "y2"
         },
         {
          "font": {
           "color": "black",
           "size": 10
          },
          "showarrow": false,
          "text": "97%",
          "x": 0.8,
          "xref": "x3",
          "y": 1.021,
          "yref": "y3"
         },
         {
          "font": {
           "color": "black",
           "size": 10
          },
          "showarrow": false,
          "text": "100%",
          "x": 0.8,
          "xref": "x4",
          "y": 1.05,
          "yref": "y4"
         },
         {
          "font": {
           "color": "black",
           "size": 10
          },
          "showarrow": false,
          "text": "100%",
          "x": 1.2,
          "xref": "x",
          "y": 1.05,
          "yref": "y"
         },
         {
          "font": {
           "color": "black",
           "size": 10
          },
          "showarrow": false,
          "text": "25%",
          "x": 1.2,
          "xref": "x2",
          "y": 0.3,
          "yref": "y2"
         },
         {
          "font": {
           "color": "black",
           "size": 10
          },
          "showarrow": false,
          "text": "42%",
          "x": 1.2,
          "xref": "x3",
          "y": 0.475,
          "yref": "y3"
         },
         {
          "font": {
           "color": "black",
           "size": 10
          },
          "showarrow": false,
          "text": "14%",
          "x": 1.2,
          "xref": "x4",
          "y": 0.193,
          "yref": "y4"
         },
         {
          "font": {
           "color": "black",
           "size": 10
          },
          "showarrow": false,
          "text": "100%",
          "x": 1.8,
          "xref": "x",
          "y": 1.05,
          "yref": "y"
         },
         {
          "font": {
           "color": "black",
           "size": 10
          },
          "showarrow": false,
          "text": "100%",
          "x": 1.8,
          "xref": "x2",
          "y": 1.05,
          "yref": "y2"
         },
         {
          "font": {
           "color": "black",
           "size": 10
          },
          "showarrow": false,
          "text": "90%",
          "x": 1.8,
          "xref": "x3",
          "y": 0.9470000000000001,
          "yref": "y3"
         },
         {
          "font": {
           "color": "black",
           "size": 10
          },
          "showarrow": false,
          "text": "nan%",
          "x": 1.8,
          "xref": "x4",
          "y": null,
          "yref": "y4"
         },
         {
          "font": {
           "color": "black",
           "size": 10
          },
          "showarrow": false,
          "text": "100%",
          "x": 2.2,
          "xref": "x",
          "y": 1.05,
          "yref": "y"
         },
         {
          "font": {
           "color": "black",
           "size": 10
          },
          "showarrow": false,
          "text": "10%",
          "x": 2.2,
          "xref": "x2",
          "y": 0.15000000000000002,
          "yref": "y2"
         },
         {
          "font": {
           "color": "black",
           "size": 10
          },
          "showarrow": false,
          "text": "5%",
          "x": 2.2,
          "xref": "x3",
          "y": 0.10300000000000001,
          "yref": "y3"
         },
         {
          "font": {
           "color": "black",
           "size": 10
          },
          "showarrow": false,
          "text": "25%",
          "x": 2.2,
          "xref": "x4",
          "y": 0.3,
          "yref": "y4"
         },
         {
          "font": {
           "color": "black",
           "size": 10
          },
          "showarrow": false,
          "text": "48%",
          "x": 2.8,
          "xref": "x",
          "y": 0.528,
          "yref": "y"
         },
         {
          "font": {
           "color": "black",
           "size": 10
          },
          "showarrow": false,
          "text": "59%",
          "x": 2.8,
          "xref": "x2",
          "y": 0.641,
          "yref": "y2"
         },
         {
          "font": {
           "color": "black",
           "size": 10
          },
          "showarrow": false,
          "text": "39%",
          "x": 2.8,
          "xref": "x3",
          "y": 0.443,
          "yref": "y3"
         },
         {
          "font": {
           "color": "black",
           "size": 10
          },
          "showarrow": false,
          "text": "100%",
          "x": 2.8,
          "xref": "x4",
          "y": 1.05,
          "yref": "y4"
         },
         {
          "font": {
           "color": "black",
           "size": 10
          },
          "showarrow": false,
          "text": "36%",
          "x": 3.2,
          "xref": "x",
          "y": 0.41,
          "yref": "y"
         },
         {
          "font": {
           "color": "black",
           "size": 10
          },
          "showarrow": false,
          "text": "8%",
          "x": 3.2,
          "xref": "x2",
          "y": 0.129,
          "yref": "y2"
         },
         {
          "font": {
           "color": "black",
           "size": 10
          },
          "showarrow": false,
          "text": "14%",
          "x": 3.2,
          "xref": "x3",
          "y": 0.19,
          "yref": "y3"
         },
         {
          "font": {
           "color": "black",
           "size": 10
          },
          "showarrow": false,
          "text": "0%",
          "x": 3.2,
          "xref": "x4",
          "y": 0.05,
          "yref": "y4"
         }
        ],
        "barmode": "group",
        "height": 600,
        "legend": {
         "orientation": "h",
         "title": {
          "text": "Gender"
         },
         "tracegroupgap": 0,
         "x": 1,
         "xanchor": "right",
         "y": 1.02,
         "yanchor": "bottom"
        },
        "showlegend": true,
        "template": {
         "data": {
          "candlestick": [
           {
            "decreasing": {
             "line": {
              "color": "#000033"
             }
            },
            "increasing": {
             "line": {
              "color": "#000032"
             }
            },
            "type": "candlestick"
           }
          ],
          "contour": [
           {
            "colorscale": [
             [
              0,
              "#000011"
             ],
             [
              0.1111111111111111,
              "#000012"
             ],
             [
              0.2222222222222222,
              "#000013"
             ],
             [
              0.3333333333333333,
              "#000014"
             ],
             [
              0.4444444444444444,
              "#000015"
             ],
             [
              0.5555555555555556,
              "#000016"
             ],
             [
              0.6666666666666666,
              "#000017"
             ],
             [
              0.7777777777777778,
              "#000018"
             ],
             [
              0.8888888888888888,
              "#000019"
             ],
             [
              1,
              "#000020"
             ]
            ],
            "type": "contour"
           }
          ],
          "contourcarpet": [
           {
            "colorscale": [
             [
              0,
              "#000011"
             ],
             [
              0.1111111111111111,
              "#000012"
             ],
             [
              0.2222222222222222,
              "#000013"
             ],
             [
              0.3333333333333333,
              "#000014"
             ],
             [
              0.4444444444444444,
              "#000015"
             ],
             [
              0.5555555555555556,
              "#000016"
             ],
             [
              0.6666666666666666,
              "#000017"
             ],
             [
              0.7777777777777778,
              "#000018"
             ],
             [
              0.8888888888888888,
              "#000019"
             ],
             [
              1,
              "#000020"
             ]
            ],
            "type": "contourcarpet"
           }
          ],
          "heatmap": [
           {
            "colorscale": [
             [
              0,
              "#000011"
             ],
             [
              0.1111111111111111,
              "#000012"
             ],
             [
              0.2222222222222222,
              "#000013"
             ],
             [
              0.3333333333333333,
              "#000014"
             ],
             [
              0.4444444444444444,
              "#000015"
             ],
             [
              0.5555555555555556,
              "#000016"
             ],
             [
              0.6666666666666666,
              "#000017"
             ],
             [
              0.7777777777777778,
              "#000018"
             ],
             [
              0.8888888888888888,
              "#000019"
             ],
             [
              1,
              "#000020"
             ]
            ],
            "type": "heatmap"
           }
          ],
          "histogram2d": [
           {
            "colorscale": [
             [
              0,
              "#000011"
             ],
             [
              0.1111111111111111,
              "#000012"
             ],
             [
              0.2222222222222222,
              "#000013"
             ],
             [
              0.3333333333333333,
              "#000014"
             ],
             [
              0.4444444444444444,
              "#000015"
             ],
             [
              0.5555555555555556,
              "#000016"
             ],
             [
              0.6666666666666666,
              "#000017"
             ],
             [
              0.7777777777777778,
              "#000018"
             ],
             [
              0.8888888888888888,
              "#000019"
             ],
             [
              1,
              "#000020"
             ]
            ],
            "type": "histogram2d"
           }
          ],
          "icicle": [
           {
            "textfont": {
             "color": "white"
            },
            "type": "icicle"
           }
          ],
          "sankey": [
           {
            "textfont": {
             "color": "#000036"
            },
            "type": "sankey"
           }
          ],
          "scatter": [
           {
            "marker": {
             "line": {
              "width": 0
             }
            },
            "type": "scatter"
           }
          ],
          "table": [
           {
            "cells": {
             "fill": {
              "color": "#000038"
             },
             "font": {
              "color": "#000037"
             },
             "line": {
              "color": "#000039"
             }
            },
            "header": {
             "fill": {
              "color": "#000040"
             },
             "font": {
              "color": "#000036"
             },
             "line": {
              "color": "#000039"
             }
            },
            "type": "table"
           }
          ],
          "waterfall": [
           {
            "connector": {
             "line": {
              "color": "#000036",
              "width": 2
             }
            },
            "decreasing": {
             "marker": {
              "color": "#000033"
             }
            },
            "increasing": {
             "marker": {
              "color": "#000032"
             }
            },
            "totals": {
             "marker": {
              "color": "#000034"
             }
            },
            "type": "waterfall"
           }
          ]
         },
         "layout": {
          "coloraxis": {
           "colorscale": [
            [
             0,
             "#000011"
            ],
            [
             0.1111111111111111,
             "#000012"
            ],
            [
             0.2222222222222222,
             "#000013"
            ],
            [
             0.3333333333333333,
             "#000014"
            ],
            [
             0.4444444444444444,
             "#000015"
            ],
            [
             0.5555555555555556,
             "#000016"
            ],
            [
             0.6666666666666666,
             "#000017"
            ],
            [
             0.7777777777777778,
             "#000018"
            ],
            [
             0.8888888888888888,
             "#000019"
            ],
            [
             1,
             "#000020"
            ]
           ]
          },
          "colorscale": {
           "diverging": [
            [
             0,
             "#000021"
            ],
            [
             0.1,
             "#000022"
            ],
            [
             0.2,
             "#000023"
            ],
            [
             0.3,
             "#000024"
            ],
            [
             0.4,
             "#000025"
            ],
            [
             0.5,
             "#000026"
            ],
            [
             0.6,
             "#000027"
            ],
            [
             0.7,
             "#000028"
            ],
            [
             0.8,
             "#000029"
            ],
            [
             0.9,
             "#000030"
            ],
            [
             1,
             "#000031"
            ]
           ],
           "sequential": [
            [
             0,
             "#000011"
            ],
            [
             0.1111111111111111,
             "#000012"
            ],
            [
             0.2222222222222222,
             "#000013"
            ],
            [
             0.3333333333333333,
             "#000014"
            ],
            [
             0.4444444444444444,
             "#000015"
            ],
            [
             0.5555555555555556,
             "#000016"
            ],
            [
             0.6666666666666666,
             "#000017"
            ],
            [
             0.7777777777777778,
             "#000018"
            ],
            [
             0.8888888888888888,
             "#000019"
            ],
            [
             1,
             "#000020"
            ]
           ],
           "sequentialminus": [
            [
             0,
             "#000011"
            ],
            [
             0.1111111111111111,
             "#000012"
            ],
            [
             0.2222222222222222,
             "#000013"
            ],
            [
             0.3333333333333333,
             "#000014"
            ],
            [
             0.4444444444444444,
             "#000015"
            ],
            [
             0.5555555555555556,
             "#000016"
            ],
            [
             0.6666666666666666,
             "#000017"
            ],
            [
             0.7777777777777778,
             "#000018"
            ],
            [
             0.8888888888888888,
             "#000019"
            ],
            [
             1,
             "#000020"
            ]
           ]
          },
          "colorway": [
           "#000001",
           "#000002",
           "#000003",
           "#000004",
           "#000005",
           "#000006",
           "#000007",
           "#000008",
           "#000009",
           "#000010"
          ]
         }
        },
        "title": {
         "text": "Titanic Survival Rates: Women vs Men Across Classes and Age Groups"
        },
        "xaxis": {
         "anchor": "y",
         "categoryarray": [
          1,
          2,
          3
         ],
         "categoryorder": "array",
         "domain": [
          0,
          0.49
         ],
         "title": {
          "text": "Passenger Class"
         }
        },
        "xaxis2": {
         "anchor": "y2",
         "categoryarray": [
          1,
          2,
          3
         ],
         "categoryorder": "array",
         "domain": [
          0.51,
          1
         ],
         "matches": "x",
         "title": {
          "text": "Passenger Class"
         }
        },
        "xaxis3": {
         "anchor": "y3",
         "domain": [
          0,
          0.49
         ],
         "matches": "x",
         "showticklabels": false
        },
        "xaxis4": {
         "anchor": "y4",
         "domain": [
          0.51,
          1
         ],
         "matches": "x",
         "showticklabels": false
        },
        "yaxis": {
         "anchor": "x",
         "domain": [
          0,
          0.46499999999999997
         ],
         "range": [
          0,
          1.1
         ],
         "tickformat": ",.0%",
         "title": {
          "text": "Survival Rate"
         }
        },
        "yaxis2": {
         "anchor": "x2",
         "domain": [
          0,
          0.46499999999999997
         ],
         "matches": "y",
         "showticklabels": false
        },
        "yaxis3": {
         "anchor": "x3",
         "domain": [
          0.5349999999999999,
          0.9999999999999999
         ],
         "matches": "y",
         "title": {
          "text": "Survival Rate"
         }
        },
        "yaxis4": {
         "anchor": "x4",
         "domain": [
          0.5349999999999999,
          0.9999999999999999
         ],
         "matches": "y",
         "showticklabels": false
        }
       }
      }
     },
     "metadata": {},
     "output_type": "display_data"
    }
   ],
   "source": [
    "import streamlit as st\n",
    "import pandas as pd\n",
    "import plotly.express as px\n",
    "import plotly.graph_objects as go\n",
    "\n",
    "# Load Titanic dataset\n",
    "df = pd.read_csv('https://raw.githubusercontent.com/leontoddjohnson/datasets/main/data/titanic.csv')\n",
    "\n",
    "def survival_demographics():\n",
    "    \"\"\"\n",
    "    Analyze survival patterns by passenger class, sex, and age group.\n",
    "    Returns a DataFrame with passenger counts, survivor counts, and survival rates.\n",
    "    \"\"\"\n",
    "    # Create age categories using pd.cut()\n",
    "    bins = [0, 12, 19, 59, 100]\n",
    "    labels = ['Child', 'Teen', 'Adult', 'Senior']\n",
    "    df['age_group'] = pd.cut(df['Age'], bins=bins, labels=labels, right=True)\n",
    "    \n",
    "    # Group by class, sex, and age group\n",
    "    grouped = df.groupby(['Pclass', 'Sex', 'age_group']).agg(\n",
    "        n_passengers=('PassengerId', 'count'),\n",
    "        n_survivors=('Survived', 'sum')\n",
    "    ).reset_index()\n",
    "    \n",
    "    # Calculate survival rate\n",
    "    grouped['survival_rate'] = (grouped['n_survivors'] / grouped['n_passengers']).round(3)\n",
    "    \n",
    "    # Order results for easy interpretation\n",
    "    grouped = grouped.sort_values(['Pclass', 'Sex', 'age_group'])\n",
    "    \n",
    "    return grouped\n",
    "\n",
    "def visualize_demographic():\n",
    "    \"\"\"\n",
    "    Create a visualization with distinct colors for men and women\n",
    "    showing survival rates across passenger classes and age groups.\n",
    "    \"\"\"\n",
    "    data = survival_demographics()\n",
    "    \n",
    "    # Create a grouped bar chart with distinct colors for genders\n",
    "    fig = px.bar(\n",
    "        data,\n",
    "        x='Pclass',\n",
    "        y='survival_rate',\n",
    "        color='Sex',\n",
    "        facet_col='age_group',\n",
    "        facet_col_wrap=2,\n",
    "        title='Titanic Survival Rates: Women vs Men Across Classes and Age Groups',\n",
    "        labels={\n",
    "            'survival_rate': 'Survival Rate',\n",
    "            'Pclass': 'Passenger Class',\n",
    "            'Sex': 'Gender',\n",
    "            'age_group': 'Age Group'\n",
    "        },\n",
    "        category_orders={\n",
    "            'Pclass': [1, 2, 3],\n",
    "            'Sex': ['female', 'male'],\n",
    "            'age_group': ['Child', 'Teen', 'Adult', 'Senior']\n",
    "        },\n",
    "        barmode='group',\n",
    "        color_discrete_map={\n",
    "            'female': '#FF6B9C',  \n",
    "            'male': '#4A90E2'    \n",
    "        }\n",
    "    )\n",
    "    \n",
    "    # Customize the layout\n",
    "    fig.update_layout(\n",
    "        yaxis_tickformat=',.0%',\n",
    "        yaxis_range=[0, 1.1],\n",
    "        height=600,\n",
    "        showlegend=True,\n",
    "        legend=dict(\n",
    "            orientation=\"h\",\n",
    "            yanchor=\"bottom\",\n",
    "            y=1.02,\n",
    "            xanchor=\"right\",\n",
    "            x=1\n",
    "        )\n",
    "    )\n",
    "    \n",
    "    # Update facet labels to be more readable\n",
    "    fig.for_each_annotation(lambda a: a.update(text=a.text.split(\"=\")[-1]))\n",
    "    \n",
    "    # Add value labels on bars\n",
    "    for i, row in data.iterrows():\n",
    "        class_offset = -0.2 if row['Sex'] == 'female' else 0.2\n",
    "        facet_col = ['Child', 'Teen', 'Adult', 'Senior'].index(row['age_group'])\n",
    "        \n",
    "        fig.add_annotation(\n",
    "            x=row['Pclass'] + class_offset,\n",
    "            y=row['survival_rate'] + 0.05,\n",
    "            text=f\"{row['survival_rate']:.0%}\",\n",
    "            showarrow=False,\n",
    "            font=dict(size=10, color='black'),\n",
    "            xref=f\"x{facet_col+1 if facet_col > 0 else ''}\",\n",
    "            yref=f\"y{facet_col+1 if facet_col > 0 else ''}\"\n",
    "        )\n",
    "    \n",
    "    return fig\n",
    "\n",
    "visualize_demographic()"
   ]
  },
  {
   "cell_type": "code",
   "execution_count": null,
   "id": "92154577",
   "metadata": {},
   "outputs": [
    {
     "name": "stderr",
     "output_type": "stream",
     "text": [
      "/tmp/ipykernel_1028/4260034809.py:20: FutureWarning:\n",
      "\n",
      "The default of observed=False is deprecated and will be changed to True in a future version of pandas. Pass observed=False to retain current behavior or observed=True to adopt the future default and silence this warning.\n",
      "\n"
     ]
    },
    {
     "data": {
      "application/vnd.plotly.v1+json": {
       "config": {
        "plotlyServerURL": "https://plot.ly"
       },
       "data": [
        {
         "hovertemplate": "Passenger Class=1<br>Survival Rate Advantage for Women=%{marker.color}<br>Age Group=%{y}<extra></extra>",
         "legendgroup": "",
         "marker": {
          "color": {
           "bdata": "AAAAAAAA8L8AAAAAAADoP0a28/3UeOE/BoGVQ4ts6z8=",
           "dtype": "f8"
          },
          "coloraxis": "coloraxis",
          "pattern": {
           "shape": ""
          }
         },
         "name": "",
         "orientation": "h",
         "showlegend": false,
         "textposition": "auto",
         "type": "bar",
         "x": {
          "bdata": "AAAAAAAA8L8AAAAAAADoP0a28/3UeOE/BoGVQ4ts6z8=",
          "dtype": "f8"
         },
         "xaxis": "x",
         "y": [
          "Child",
          "Teen",
          "Adult",
          "Senior"
         ],
         "yaxis": "y"
        },
        {
         "hovertemplate": "Passenger Class=2<br>Survival Rate Advantage for Women=%{marker.color}<br>Age Group=%{y}<extra></extra>",
         "legendgroup": "",
         "marker": {
          "color": {
           "bdata": "AAAAAAAAAADNzMzMzMzsPzVeukkMAus/AAAAAAAA+P8=",
           "dtype": "f8"
          },
          "coloraxis": "coloraxis",
          "pattern": {
           "shape": ""
          }
         },
         "name": "",
         "orientation": "h",
         "showlegend": false,
         "textposition": "auto",
         "type": "bar",
         "x": {
          "bdata": "AAAAAAAAAADNzMzMzMzsPzVeukkMAus/AAAAAAAA+P8=",
          "dtype": "f8"
         },
         "xaxis": "x2",
         "y": [
          "Child",
          "Teen",
          "Adult",
          "Senior"
         ],
         "yaxis": "y2"
        },
        {
         "hovertemplate": "Passenger Class=3<br>Survival Rate Advantage for Women=%{marker.color}<br>Age Group=%{y}<extra></extra>",
         "legendgroup": "",
         "marker": {
          "color": {
           "bdata": "aJHtfD81vj/8qfHSTWLgP/7UeOkmMdA/AAAAAAAA8D8=",
           "dtype": "f8"
          },
          "coloraxis": "coloraxis",
          "pattern": {
           "shape": ""
          }
         },
         "name": "",
         "orientation": "h",
         "showlegend": false,
         "textposition": "auto",
         "type": "bar",
         "x": {
          "bdata": "aJHtfD81vj/8qfHSTWLgP/7UeOkmMdA/AAAAAAAA8D8=",
          "dtype": "f8"
         },
         "xaxis": "x3",
         "y": [
          "Child",
          "Teen",
          "Adult",
          "Senior"
         ],
         "yaxis": "y3"
        }
       ],
       "layout": {
        "annotations": [
         {
          "showarrow": false,
          "text": "Class 1",
          "x": 0.15999999999999998,
          "xanchor": "center",
          "xref": "paper",
          "y": 1,
          "yanchor": "bottom",
          "yref": "paper"
         },
         {
          "showarrow": false,
          "text": "Class 2",
          "x": 0.49999999999999994,
          "xanchor": "center",
          "xref": "paper",
          "y": 1,
          "yanchor": "bottom",
          "yref": "paper"
         },
         {
          "showarrow": false,
          "text": "Class 3",
          "x": 0.8399999999999999,
          "xanchor": "center",
          "xref": "paper",
          "y": 1,
          "yanchor": "bottom",
          "yref": "paper"
         }
        ],
        "barmode": "relative",
        "coloraxis": {
         "cmax": 1,
         "cmin": -1,
         "colorbar": {
          "title": {
           "text": "Survival Rate Advantage for Women"
          }
         },
         "colorscale": [
          [
           0,
           "rgb(165,0,38)"
          ],
          [
           0.1,
           "rgb(215,48,39)"
          ],
          [
           0.2,
           "rgb(244,109,67)"
          ],
          [
           0.3,
           "rgb(253,174,97)"
          ],
          [
           0.4,
           "rgb(254,224,144)"
          ],
          [
           0.5,
           "rgb(255,255,191)"
          ],
          [
           0.6,
           "rgb(224,243,248)"
          ],
          [
           0.7,
           "rgb(171,217,233)"
          ],
          [
           0.8,
           "rgb(116,173,209)"
          ],
          [
           0.9,
           "rgb(69,117,180)"
          ],
          [
           1,
           "rgb(49,54,149)"
          ]
         ]
        },
        "height": 500,
        "legend": {
         "tracegroupgap": 0
        },
        "shapes": [
         {
          "line": {
           "color": "black",
           "dash": "dash"
          },
          "type": "line",
          "x0": 0,
          "x1": 0,
          "xref": "x",
          "y0": 0,
          "y1": 1,
          "yref": "y domain"
         },
         {
          "line": {
           "color": "black",
           "dash": "dash"
          },
          "type": "line",
          "x0": 0,
          "x1": 0,
          "xref": "x2",
          "y0": 0,
          "y1": 1,
          "yref": "y2 domain"
         },
         {
          "line": {
           "color": "black",
           "dash": "dash"
          },
          "type": "line",
          "x0": 0,
          "x1": 0,
          "xref": "x3",
          "y0": 0,
          "y1": 1,
          "yref": "y3 domain"
         }
        ],
        "showlegend": false,
        "template": {
         "data": {
          "candlestick": [
           {
            "decreasing": {
             "line": {
              "color": "#000033"
             }
            },
            "increasing": {
             "line": {
              "color": "#000032"
             }
            },
            "type": "candlestick"
           }
          ],
          "contour": [
           {
            "colorscale": [
             [
              0,
              "#000011"
             ],
             [
              0.1111111111111111,
              "#000012"
             ],
             [
              0.2222222222222222,
              "#000013"
             ],
             [
              0.3333333333333333,
              "#000014"
             ],
             [
              0.4444444444444444,
              "#000015"
             ],
             [
              0.5555555555555556,
              "#000016"
             ],
             [
              0.6666666666666666,
              "#000017"
             ],
             [
              0.7777777777777778,
              "#000018"
             ],
             [
              0.8888888888888888,
              "#000019"
             ],
             [
              1,
              "#000020"
             ]
            ],
            "type": "contour"
           }
          ],
          "contourcarpet": [
           {
            "colorscale": [
             [
              0,
              "#000011"
             ],
             [
              0.1111111111111111,
              "#000012"
             ],
             [
              0.2222222222222222,
              "#000013"
             ],
             [
              0.3333333333333333,
              "#000014"
             ],
             [
              0.4444444444444444,
              "#000015"
             ],
             [
              0.5555555555555556,
              "#000016"
             ],
             [
              0.6666666666666666,
              "#000017"
             ],
             [
              0.7777777777777778,
              "#000018"
             ],
             [
              0.8888888888888888,
              "#000019"
             ],
             [
              1,
              "#000020"
             ]
            ],
            "type": "contourcarpet"
           }
          ],
          "heatmap": [
           {
            "colorscale": [
             [
              0,
              "#000011"
             ],
             [
              0.1111111111111111,
              "#000012"
             ],
             [
              0.2222222222222222,
              "#000013"
             ],
             [
              0.3333333333333333,
              "#000014"
             ],
             [
              0.4444444444444444,
              "#000015"
             ],
             [
              0.5555555555555556,
              "#000016"
             ],
             [
              0.6666666666666666,
              "#000017"
             ],
             [
              0.7777777777777778,
              "#000018"
             ],
             [
              0.8888888888888888,
              "#000019"
             ],
             [
              1,
              "#000020"
             ]
            ],
            "type": "heatmap"
           }
          ],
          "histogram2d": [
           {
            "colorscale": [
             [
              0,
              "#000011"
             ],
             [
              0.1111111111111111,
              "#000012"
             ],
             [
              0.2222222222222222,
              "#000013"
             ],
             [
              0.3333333333333333,
              "#000014"
             ],
             [
              0.4444444444444444,
              "#000015"
             ],
             [
              0.5555555555555556,
              "#000016"
             ],
             [
              0.6666666666666666,
              "#000017"
             ],
             [
              0.7777777777777778,
              "#000018"
             ],
             [
              0.8888888888888888,
              "#000019"
             ],
             [
              1,
              "#000020"
             ]
            ],
            "type": "histogram2d"
           }
          ],
          "icicle": [
           {
            "textfont": {
             "color": "white"
            },
            "type": "icicle"
           }
          ],
          "sankey": [
           {
            "textfont": {
             "color": "#000036"
            },
            "type": "sankey"
           }
          ],
          "scatter": [
           {
            "marker": {
             "line": {
              "width": 0
             }
            },
            "type": "scatter"
           }
          ],
          "table": [
           {
            "cells": {
             "fill": {
              "color": "#000038"
             },
             "font": {
              "color": "#000037"
             },
             "line": {
              "color": "#000039"
             }
            },
            "header": {
             "fill": {
              "color": "#000040"
             },
             "font": {
              "color": "#000036"
             },
             "line": {
              "color": "#000039"
             }
            },
            "type": "table"
           }
          ],
          "waterfall": [
           {
            "connector": {
             "line": {
              "color": "#000036",
              "width": 2
             }
            },
            "decreasing": {
             "marker": {
              "color": "#000033"
             }
            },
            "increasing": {
             "marker": {
              "color": "#000032"
             }
            },
            "totals": {
             "marker": {
              "color": "#000034"
             }
            },
            "type": "waterfall"
           }
          ]
         },
         "layout": {
          "coloraxis": {
           "colorscale": [
            [
             0,
             "#000011"
            ],
            [
             0.1111111111111111,
             "#000012"
            ],
            [
             0.2222222222222222,
             "#000013"
            ],
            [
             0.3333333333333333,
             "#000014"
            ],
            [
             0.4444444444444444,
             "#000015"
            ],
            [
             0.5555555555555556,
             "#000016"
            ],
            [
             0.6666666666666666,
             "#000017"
            ],
            [
             0.7777777777777778,
             "#000018"
            ],
            [
             0.8888888888888888,
             "#000019"
            ],
            [
             1,
             "#000020"
            ]
           ]
          },
          "colorscale": {
           "diverging": [
            [
             0,
             "#000021"
            ],
            [
             0.1,
             "#000022"
            ],
            [
             0.2,
             "#000023"
            ],
            [
             0.3,
             "#000024"
            ],
            [
             0.4,
             "#000025"
            ],
            [
             0.5,
             "#000026"
            ],
            [
             0.6,
             "#000027"
            ],
            [
             0.7,
             "#000028"
            ],
            [
             0.8,
             "#000029"
            ],
            [
             0.9,
             "#000030"
            ],
            [
             1,
             "#000031"
            ]
           ],
           "sequential": [
            [
             0,
             "#000011"
            ],
            [
             0.1111111111111111,
             "#000012"
            ],
            [
             0.2222222222222222,
             "#000013"
            ],
            [
             0.3333333333333333,
             "#000014"
            ],
            [
             0.4444444444444444,
             "#000015"
            ],
            [
             0.5555555555555556,
             "#000016"
            ],
            [
             0.6666666666666666,
             "#000017"
            ],
            [
             0.7777777777777778,
             "#000018"
            ],
            [
             0.8888888888888888,
             "#000019"
            ],
            [
             1,
             "#000020"
            ]
           ],
           "sequentialminus": [
            [
             0,
             "#000011"
            ],
            [
             0.1111111111111111,
             "#000012"
            ],
            [
             0.2222222222222222,
             "#000013"
            ],
            [
             0.3333333333333333,
             "#000014"
            ],
            [
             0.4444444444444444,
             "#000015"
            ],
            [
             0.5555555555555556,
             "#000016"
            ],
            [
             0.6666666666666666,
             "#000017"
            ],
            [
             0.7777777777777778,
             "#000018"
            ],
            [
             0.8888888888888888,
             "#000019"
            ],
            [
             1,
             "#000020"
            ]
           ]
          },
          "colorway": [
           "#000001",
           "#000002",
           "#000003",
           "#000004",
           "#000005",
           "#000006",
           "#000007",
           "#000008",
           "#000009",
           "#000010"
          ]
         }
        },
        "title": {
         "text": "Survival Advantage: Women vs Men Across Classes and Age Groups"
        },
        "xaxis": {
         "anchor": "y",
         "domain": [
          0,
          0.31999999999999995
         ],
         "tickformat": ",.0%",
         "title": {
          "text": "Women's Survival Advantage Over Men"
         }
        },
        "xaxis2": {
         "anchor": "y2",
         "domain": [
          0.33999999999999997,
          0.6599999999999999
         ],
         "matches": "x",
         "title": {
          "text": "Survival Rate Advantage for Women"
         }
        },
        "xaxis3": {
         "anchor": "y3",
         "domain": [
          0.6799999999999999,
          0.9999999999999999
         ],
         "matches": "x",
         "title": {
          "text": "Survival Rate Advantage for Women"
         }
        },
        "yaxis": {
         "anchor": "x",
         "domain": [
          0,
          1
         ],
         "title": {
          "text": "Age Group"
         }
        },
        "yaxis2": {
         "anchor": "x2",
         "domain": [
          0,
          1
         ],
         "matches": "y",
         "showticklabels": false
        },
        "yaxis3": {
         "anchor": "x3",
         "domain": [
          0,
          1
         ],
         "matches": "y",
         "showticklabels": false
        }
       }
      }
     },
     "metadata": {},
     "output_type": "display_data"
    }
   ],
   "source": [
    "def visualize_gender_comparison():\n",
    "    data = survival_demographics()\n",
    "    \n",
    "    # Calculate the difference in survival rates between women and men\n",
    "    women_data = data[data['Sex'] == 'female'].set_index(['Pclass', 'age_group'])\n",
    "    men_data = data[data['Sex'] == 'male'].set_index(['Pclass', 'age_group'])\n",
    "    \n",
    "    comparison_data = women_data[['survival_rate']].copy()\n",
    "    comparison_data.columns = ['women_survival_rate']\n",
    "    comparison_data['men_survival_rate'] = men_data['survival_rate']\n",
    "    comparison_data['survival_difference'] = comparison_data['women_survival_rate'] - comparison_data['men_survival_rate']\n",
    "    comparison_data = comparison_data.reset_index()\n",
    "    \n",
    "    # Create a diverging bar chart showing the survival gap\n",
    "    fig = px.bar(\n",
    "        comparison_data,\n",
    "        x='survival_difference',\n",
    "        y='age_group',\n",
    "        color='survival_difference',\n",
    "        facet_col='Pclass',\n",
    "        title='Survival Advantage: Women vs Men Across Classes and Age Groups',\n",
    "        labels={\n",
    "            'survival_difference': 'Survival Rate Advantage for Women',\n",
    "            'age_group': 'Age Group',\n",
    "            'Pclass': 'Passenger Class'\n",
    "        },\n",
    "        color_continuous_scale='RdYlBu',\n",
    "        range_color=[-1, 1]\n",
    "    )\n",
    "    \n",
    "    fig.update_layout(\n",
    "        height=500,\n",
    "        showlegend=False,\n",
    "        xaxis=dict(tickformat=',.0%'),\n",
    "        xaxis_title=\"Women's Survival Advantage Over Men\"\n",
    "    )\n",
    "    \n",
    "    fig.for_each_annotation(lambda a: a.update(text=f\"Class {a.text.split('=')[1]}\"))\n",
    "    \n",
    "    # Add reference line at zero\n",
    "    for i in range(1, 4):\n",
    "        fig.add_vline(x=0, line_dash=\"dash\", line_color=\"black\", \n",
    "                     row=1, col=i)\n",
    "    \n",
    "    return fig\n",
    "visualize_gender_comparison()"
   ]
  },
  {
   "cell_type": "markdown",
   "id": "3e8a0793",
   "metadata": {},
   "source": [
    "## Exercise 2: Family Size and Wealth"
   ]
  },
  {
   "cell_type": "markdown",
   "id": "93bea550",
   "metadata": {},
   "source": [
    "Using the Titanic dataset, write a function named `family_groups()` to explore the relationship between family size, passenger class, and ticket fare.  \n",
    "\n",
    "1. Create a new column in the Titanic dataset that represents the total family size for each passenger, `family_size`. Family size is defined as the number of siblings/spouses aboard plus the number of parents/children aboard, plus the passenger themselves.\n",
    "\n",
    "2. Group the passengers by family size and passenger class. For each group, calculate:  \n",
    "   - The total number of passengers, `n_passengers`\n",
    "   - The average ticket fare, `avg_fare`\n",
    "   - The minimum and maximum ticket fares (to capture variation in wealth), `min_fare` and `max_fare`\n",
    "\n",
    "3. Return a table with these results, sorted so that the values are clear and easy to interpret (for example, by class and then family size).\n",
    "\n",
    "4. Write a function called `last_names()` that extracts the last name of each passenger from the `Name` column, and returns the count for each last name (i.e., a pandas series with last name as index, and count as value). Does this result agree with that of the data table above? Share your findings in your app using `st.write`.\n",
    "\n",
    "5. Just like you did in Exercise 1, come up with a clear question that your results makes you curious about. Write this question in your app.py file above the call to your visualization function. Then, create a Plotly visualization in a function named `visualize_families()` that directly addresses your question. As in Exercise 1 you are free to choose the chart type that you think best communicates the findings."
   ]
  },
  {
   "cell_type": "markdown",
   "id": "fd60f1c3",
   "metadata": {},
   "source": [
    "## Bonus Question\n",
    "\n",
    "Add a new column, `older_passenger`, to the Titanic dataset that indicates whether each passenger’s age is above the median age for *their* passenger class. So, suppose row $x$ is in passenger class 2. Then, a value of `True` at row $x$ would indicate that passenger older than 50% of class 2 passengers, and `False` would indicate that they younger.\n",
    "\n",
    "- You should use pandas functions to accomplish this.\n",
    "- The new column should contain Boolean values (True if the age is above the median, False if less than or equal to).\n",
    "- Return the updated table in the function `determine_age_division()`\n",
    "\n",
    "Once you’ve created this column, consider how this age division relates to your analysis above. Try to visualize this analysis in Plotly using the function name `visualize_age_division()`."
   ]
  }
 ],
 "metadata": {
  "kernelspec": {
   "display_name": "base",
   "language": "python",
   "name": "python3"
  },
  "language_info": {
   "codemirror_mode": {
    "name": "ipython",
    "version": 3
   },
   "file_extension": ".py",
   "mimetype": "text/x-python",
   "name": "python",
   "nbconvert_exporter": "python",
   "pygments_lexer": "ipython3",
   "version": "3.11.13"
  }
 },
 "nbformat": 4,
 "nbformat_minor": 5
}
